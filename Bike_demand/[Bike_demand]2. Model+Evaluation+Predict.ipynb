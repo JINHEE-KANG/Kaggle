{
 "cells": [
  {
   "cell_type": "markdown",
   "metadata": {},
   "source": [
    "[오늘코드](https://www.inflearn.com/course/%EB%8D%B0%EC%9D%B4%ED%84%B0-%EC%82%AC%EC%9D%B4%EC%96%B8%EC%8A%A4-kaggle#) 강의와 [EDA & Ensemble Model](https://www.kaggle.com/viveksrinivasan/eda-ensemble-model-top-10-percentile/comments) 커널을 참고하여 캐글 입문 코드를 작성해봤습니다.\n",
    "\n",
    "### 목차\n",
    "1. Package & Data 패키지 및 데이터 준비\n",
    "2. Feature Engineering\n",
    "3. Modeling 모델링\n",
    "4. Predict 예측\n",
    "5. Conclusion 결언 및 요약\n",
    "6. *windspeed*를 LGBM 모델로 보간한다면?"
   ]
  },
  {
   "cell_type": "markdown",
   "metadata": {},
   "source": [
    "# 패키지 및 데이터 준비"
   ]
  },
  {
   "cell_type": "code",
   "execution_count": 2,
   "metadata": {},
   "outputs": [
    {
     "name": "stdout",
     "output_type": "stream",
     "text": [
      "설정된 폰트 사이즈:  15.0\n",
      "설정된 폰트 글꼴:  ['NanumSquareRound']\n"
     ]
    }
   ],
   "source": [
    "### 패키지 및 설정 ###\n",
    "import pandas as pd # DataFrame\n",
    "import numpy as np # linear algebra\n",
    "import seaborn as sns # visualization \n",
    "import matplotlib as mpl # visualization\n",
    "import matplotlib.pyplot as plt #visualization\n",
    "from scipy import stats # statistics\n",
    "from datetime import datetime # datetime\n",
    "import missingno as msno # missing values\n",
    "\n",
    "# 그래프 설정\n",
    "%matplotlib inline\n",
    "plt.style.use('ggplot') #격자 그리기\n",
    "\n",
    "# 폰트 설정\n",
    "mpl.rcParams['axes.unicode_minus'] = False #마이너스 폰트 깨짐 문제\n",
    "plt.rcParams['font.family'] = 'NanumSquareRound' #나눔스퀘어라운드 폰트 설정\n",
    "plt.rcParams['font.size'] = 15 #폰트 크기 15\n",
    "print('설정된 폰트 사이즈: ',plt.rcParams['font.size'])\n",
    "print('설정된 폰트 글꼴: ',plt.rcParams['font.family'])"
   ]
  },
  {
   "cell_type": "code",
   "execution_count": 15,
   "metadata": {},
   "outputs": [],
   "source": [
    "### 모델링 패키지 model ###\n",
    "from sklearn.linear_model import LinearRegression, Ridge, Lasso #선형회귀, 릿지, 라쏘\n",
    "from sklearn.svm import LinearSVR\n",
    "from sklearn.ensemble import RandomForestRegressor,GradientBoostingRegressor #랜덤 포레스트, 그래디언트 부스트\n",
    "from sklearn.ensemble import StackingRegressor,BaggingRegressor,AdaBoostRegressor\n",
    "from lightgbm import LGBMRegressor # LightGBM\n",
    "\n",
    "\n",
    "### 검증 패키지 evaluation ###\n",
    "from sklearn.metrics import mean_squared_log_error,make_scorer # RMSLE\n",
    "from sklearn.model_selection import KFold, cross_val_score, cross_val_predict,GridSearchCV # validation"
   ]
  },
  {
   "cell_type": "code",
   "execution_count": 3,
   "metadata": {},
   "outputs": [],
   "source": [
    "### 데이터 불러오기 ###\n",
    "train = pd.read_csv('train.csv',parse_dates = ['datetime'])\n",
    "test = pd.read_csv('test.csv',parse_dates = ['datetime'])\n",
    "submission = pd.read_csv('sampleSubmission.csv',parse_dates = ['datetime'])"
   ]
  },
  {
   "cell_type": "markdown",
   "metadata": {},
   "source": [
    "# Feature Engineering"
   ]
  },
  {
   "cell_type": "markdown",
   "metadata": {},
   "source": [
    "### 이상치 처리"
   ]
  },
  {
   "cell_type": "code",
   "execution_count": 5,
   "metadata": {},
   "outputs": [
    {
     "name": "stdout",
     "output_type": "stream",
     "text": [
      "train:(10886, 12),train without Outliers:(10586, 12)\n",
      "remove:300\n"
     ]
    }
   ],
   "source": [
    "### IQR 범위 설정 ###\n",
    "IQR=train['count'].quantile(q=0.75)-train['count'].quantile(q=0.25)\n",
    "IQR_l=train['count'].quantile(q=0.25)-1.5*IQR\n",
    "IQR_u=train['count'].quantile(q=0.75)+1.5*IQR\n",
    "\n",
    "### remove outliers 이상치 제거 ###\n",
    "train_Outliers = train[train['count']>=IQR_l]\n",
    "train_Outliers = train_Outliers[train_Outliers['count']<=IQR_u]\n",
    "print(f'train:{train.shape},train without Outliers:{train_Outliers.shape}')\n",
    "print(f'remove:{train.shape[0]-train_Outliers.shape[0]}')"
   ]
  },
  {
   "cell_type": "markdown",
   "metadata": {},
   "source": [
    "### 날짜 세분화"
   ]
  },
  {
   "cell_type": "code",
   "execution_count": 6,
   "metadata": {},
   "outputs": [],
   "source": [
    "# datetime 형식이라 가능한 연산\n",
    "train_Outliers['year'] = train_Outliers['datetime'].dt.year #연도\n",
    "train_Outliers['month'] = train_Outliers['datetime'].dt.month #월\n",
    "train_Outliers['day'] = train_Outliers['datetime'].dt.day #일\n",
    "train_Outliers['hour'] = train_Outliers['datetime'].dt.hour #시간\n",
    "train_Outliers['minute'] = train_Outliers['datetime'].dt.minute #분\n",
    "train_Outliers['second'] = train_Outliers['datetime'].dt.second #초\n",
    "train_Outliers['dayofweek'] = train_Outliers['datetime'].dt.dayofweek #요일"
   ]
  },
  {
   "cell_type": "code",
   "execution_count": 7,
   "metadata": {},
   "outputs": [],
   "source": [
    "# test 데이터 변환\n",
    "test['year'] = test['datetime'].dt.year #연도\n",
    "test['month'] = test['datetime'].dt.month #월\n",
    "test['day'] = test['datetime'].dt.day #일\n",
    "test['hour'] = test['datetime'].dt.hour #시간\n",
    "test['minute'] = test['datetime'].dt.minute #분\n",
    "test['second'] = test['datetime'].dt.second #초\n",
    "test['dayofweek'] = test['datetime'].dt.dayofweek #요일"
   ]
  },
  {
   "cell_type": "markdown",
   "metadata": {},
   "source": [
    "### 풍속(windspeed)의 0을 RandomForest로 보간"
   ]
  },
  {
   "cell_type": "code",
   "execution_count": 8,
   "metadata": {},
   "outputs": [
    {
     "data": {
      "text/plain": [
       "Index(['datetime', 'season', 'holiday', 'workingday', 'weather', 'temp',\n",
       "       'atemp', 'humidity', 'windspeed', 'casual', 'registered', 'count',\n",
       "       'year', 'month', 'day', 'hour', 'minute', 'second', 'dayofweek'],\n",
       "      dtype='object')"
      ]
     },
     "execution_count": 8,
     "metadata": {},
     "output_type": "execute_result"
    }
   ],
   "source": [
    "train_Outliers.columns"
   ]
  },
  {
   "cell_type": "code",
   "execution_count": 9,
   "metadata": {},
   "outputs": [
    {
     "name": "stdout",
     "output_type": "stream",
     "text": [
      "<class 'pandas.core.frame.DataFrame'>\n",
      "RangeIndex: 10586 entries, 0 to 10585\n",
      "Data columns (total 19 columns):\n",
      " #   Column      Non-Null Count  Dtype         \n",
      "---  ------      --------------  -----         \n",
      " 0   datetime    10586 non-null  datetime64[ns]\n",
      " 1   season      10586 non-null  int64         \n",
      " 2   holiday     10586 non-null  int64         \n",
      " 3   workingday  10586 non-null  int64         \n",
      " 4   weather     10586 non-null  int64         \n",
      " 5   temp        10586 non-null  float64       \n",
      " 6   atemp       10586 non-null  float64       \n",
      " 7   humidity    10586 non-null  int64         \n",
      " 8   windspeed   10586 non-null  float64       \n",
      " 9   casual      10586 non-null  int64         \n",
      " 10  registered  10586 non-null  int64         \n",
      " 11  count       10586 non-null  int64         \n",
      " 12  year        10586 non-null  int64         \n",
      " 13  month       10586 non-null  int64         \n",
      " 14  day         10586 non-null  int64         \n",
      " 15  hour        10586 non-null  int64         \n",
      " 16  minute      10586 non-null  int64         \n",
      " 17  second      10586 non-null  int64         \n",
      " 18  dayofweek   10586 non-null  int64         \n",
      "dtypes: datetime64[ns](1), float64(3), int64(15)\n",
      "memory usage: 1.5 MB\n"
     ]
    },
    {
     "name": "stderr",
     "output_type": "stream",
     "text": [
      "C:\\Users\\genie\\Anaconda3\\lib\\site-packages\\ipykernel_launcher.py:15: SettingWithCopyWarning: \n",
      "A value is trying to be set on a copy of a slice from a DataFrame.\n",
      "Try using .loc[row_indexer,col_indexer] = value instead\n",
      "\n",
      "See the caveats in the documentation: https://pandas.pydata.org/pandas-docs/stable/user_guide/indexing.html#returning-a-view-versus-a-copy\n",
      "  from ipykernel import kernelapp as app\n"
     ]
    }
   ],
   "source": [
    "# windspeed =0인 데이터와 !=0인 데이터로 나누기\n",
    "trainWind0 = train_Outliers[train_Outliers['windspeed']==0]\n",
    "trainWindNot0 = train_Outliers[train_Outliers['windspeed']!=0]\n",
    "\n",
    "#windspeed 예측 모델\n",
    "rf_wind = RandomForestRegressor()\n",
    "\n",
    "#모델 피처\n",
    "windCols = ['season','weather','temp','atemp','humidity','year','month','day','hour']\n",
    "\n",
    "#학습\n",
    "rf_wind.fit(trainWindNot0[windCols],trainWindNot0['windspeed'])\n",
    "\n",
    "#예측\n",
    "trainWind0['windspeed'] = rf_wind.predict(trainWind0[windCols])\n",
    "\n",
    "## 다시 학습데이터로 합치기\n",
    "train_wind = trainWindNot0.append(trainWind0)\n",
    "train_wind.reset_index(inplace = True)\n",
    "train_wind.drop('index',inplace=True,axis=1)\n",
    "train_wind.info()"
   ]
  },
  {
   "cell_type": "markdown",
   "metadata": {},
   "source": [
    "# Modeling & Evaluation\n",
    "1. Linear regression 선형 회귀 모델\n",
    "2. Regularization 정규화 Ridge\n",
    "3. Regularization 정규화 Lasso\n",
    "4. Ensemble Random Forest 랜덤 포레스트\n",
    "5. Ensemble GradientBoost 그래디언트 부스트\n",
    "6. Ensemble AdaBoost 아다 부스트\n",
    "7. Ensemble Bagging 배깅\n",
    "8. LGBM\n",
    "9. Ensemble Stacking 스태킹\n",
    "    1. (LGBM+RandomForest+Bagging+GBM)->LGBM\n",
    "    2. (LGBM+RandomForest+Bagging+GBM)->RandomForest\n",
    "    3. (LGBM+RandomForest+Bagging+GBM)->Bagging\n",
    "    4. (LGBM+RandomForest+Bagging+GBM)->GBM\n",
    "\n",
    "### Splitting Data set - Train/Test"
   ]
  },
  {
   "cell_type": "code",
   "execution_count": 10,
   "metadata": {},
   "outputs": [
    {
     "data": {
      "text/plain": [
       "Index(['datetime', 'season', 'holiday', 'workingday', 'weather', 'temp',\n",
       "       'atemp', 'humidity', 'windspeed', 'casual', 'registered', 'count',\n",
       "       'year', 'month', 'day', 'hour', 'minute', 'second', 'dayofweek'],\n",
       "      dtype='object')"
      ]
     },
     "execution_count": 10,
     "metadata": {},
     "output_type": "execute_result"
    }
   ],
   "source": [
    "train_wind.columns"
   ]
  },
  {
   "cell_type": "code",
   "execution_count": 11,
   "metadata": {},
   "outputs": [],
   "source": [
    "# 피처 분류하기\n",
    "categoricalFeatureNames = ['season','holiday','workingday','weather','month','year','hour','dayofweek']\n",
    "numericFeatureNames = ['temp','humidity','windspeed','atemp']\n",
    "dropFeatureNames = ['casual','registered','minute','second','count']\n",
    "\n",
    "# Categorical 피처 타입 변환 - 라벨인코딩은 할 필요 없다\n",
    "for var in categoricalFeatureNames:\n",
    "    train_wind[var] = train_wind[var].astype('category')\n",
    "    test[var] = test[var].astype('category')"
   ]
  },
  {
   "cell_type": "code",
   "execution_count": 12,
   "metadata": {},
   "outputs": [],
   "source": [
    "### Train / Test Split ###\n",
    "X_train = train_wind[categoricalFeatureNames+numericFeatureNames]\n",
    "X_test = test[categoricalFeatureNames+numericFeatureNames]\n",
    "\n",
    "y_train = np.log(train_wind['count'])"
   ]
  },
  {
   "cell_type": "markdown",
   "metadata": {},
   "source": [
    "### Evaluation 평가지표 RMSLE"
   ]
  },
  {
   "cell_type": "code",
   "execution_count": 13,
   "metadata": {},
   "outputs": [],
   "source": [
    "### 그리드서치를 위한 RMSLE 함수 ###\n",
    "def rmsle(y, y_,convertExp=True):\n",
    "    if convertExp:\n",
    "        y = np.exp(y),\n",
    "        y_ = np.exp(y_)\n",
    "    log1 = np.nan_to_num(np.array([np.log(v + 1) for v in y]))\n",
    "    log2 = np.nan_to_num(np.array([np.log(v + 1) for v in y_]))\n",
    "    calc = (log1 - log2) ** 2\n",
    "    return np.sqrt(np.mean(calc))\n",
    "\n",
    "rmsle_scorer = make_scorer(rmsle,greater_is_better=False) #rmsle는 작을수록 좋다"
   ]
  },
  {
   "cell_type": "markdown",
   "metadata": {},
   "source": [
    "### Linear regression 선형회귀"
   ]
  },
  {
   "cell_type": "code",
   "execution_count": 31,
   "metadata": {},
   "outputs": [
    {
     "name": "stdout",
     "output_type": "stream",
     "text": [
      "10-fold RMSLE score:0.07462256861519097\n"
     ]
    }
   ],
   "source": [
    "### 모델 생성 ###\n",
    "reg = LinearRegression()\n",
    "\n",
    "### 모델 학습 ###\n",
    "reg.fit(X=X_train,y=y_train)\n",
    "\n",
    "### 평가 ###\n",
    "k_fold = KFold(n_splits=10, shuffle=True, random_state=22)\n",
    "pred_reg = cross_val_predict(reg, X_train, y_train, cv=k_fold)\n",
    "reg_score = mean_squared_log_error(y_train, pred_reg)\n",
    "print(f'10-fold RMSLE score:{reg_score}')"
   ]
  },
  {
   "cell_type": "markdown",
   "metadata": {},
   "source": [
    "### Regularization Ridge [참고](https://scikit-learn.org/stable/modules/generated/sklearn.linear_model.Ridge.html)\n",
    "- 기본 모델: `Ridge`에 cross-validation을 더한 모델\n",
    "    - RMSLE: 1.0224845936149742"
   ]
  },
  {
   "cell_type": "code",
   "execution_count": 16,
   "metadata": {},
   "outputs": [
    {
     "name": "stdout",
     "output_type": "stream",
     "text": [
      "10-fold RMSLE score:1.0225855296688027\n"
     ]
    }
   ],
   "source": [
    "### 모델 생성 ###\n",
    "ridge = Ridge()\n",
    "\n",
    "### 모델 학습 ###\n",
    "ridge.fit(X=X_train,y=y_train)\n",
    "\n",
    "### 평가 ###\n",
    "k_fold = KFold(n_splits=10, shuffle=True, random_state=22)\n",
    "pred_ridge = cross_val_predict(ridge, X_train, y_train, cv=k_fold)\n",
    "ridge_score = mean_squared_log_error(np.exp(y_train), np.exp(pred_ridge))\n",
    "print(f'10-fold RMSLE score:{ridge_score}')"
   ]
  },
  {
   "cell_type": "markdown",
   "metadata": {},
   "source": [
    "- GridSeachCV Hyperparameter Tuning: 1.0195900708376755\n",
    "    - `max_iter`: 50,100,200,500,1000,2000,**3000**\n",
    "    - `alpha`: .1,.5,1,2,5,10,50,75,**100**,300,500,1000"
   ]
  },
  {
   "cell_type": "code",
   "execution_count": 19,
   "metadata": {},
   "outputs": [
    {
     "name": "stdout",
     "output_type": "stream",
     "text": [
      "Best params of Ridge:  <bound method BaseEstimator.get_params of Ridge(alpha=100, max_iter=3000)>\n",
      "10-fold GridSearchCV RMSLE score:1.0196915524419168\n"
     ]
    }
   ],
   "source": [
    "### 모델 생성 - 그리드서치 ###\n",
    "ridge = Ridge()\n",
    "ridge_params = {'max_iter':[3000],'alpha':[.01,.05,.1,.5,1,5,10,20,50,80,100,200,500,800,1000]}\n",
    "grid_ridge = GridSearchCV(ridge,ridge_params,scoring = rmsle_scorer,cv=10)\n",
    "\n",
    "### 모델 학습 ###\n",
    "grid_ridge.fit(X=X_train,y=y_train)\n",
    "\n",
    "### 예측 및 성능 평가 ###\n",
    "pred_GRidge = grid_ridge.predict(X=X_train)\n",
    "GRidge_score = mean_squared_log_error(np.exp(y_train),np.exp(pred_GRidge))\n",
    "print('Best params of Ridge: ',grid_ridge.best_params_)\n",
    "print(f'10-fold GridSearchCV RMSLE score:{GRidge_score}')"
   ]
  },
  {
   "cell_type": "markdown",
   "metadata": {},
   "source": [
    "### Regularization Lasso"
   ]
  },
  {
   "cell_type": "code",
   "execution_count": 58,
   "metadata": {},
   "outputs": [
    {
     "name": "stdout",
     "output_type": "stream",
     "text": [
      "10-fold RMSLE score:1.1124566661835453\n"
     ]
    }
   ],
   "source": [
    "### 모델 생성 ###\n",
    "lasso = Lasso()\n",
    "\n",
    "### 모델 학습 ###\n",
    "lasso.fit(X=X_train,y=y_train)\n",
    "\n",
    "### 평가 ###\n",
    "k_fold = KFold(n_splits=10, shuffle=True, random_state=22)\n",
    "pred_lasso = cross_val_predict(lasso, X_train, y_train, cv=k_fold)\n",
    "lasso_score = mean_squared_log_error(np.exp(y_train), np.exp(pred_lasso))\n",
    "print(f'10-fold RMSLE score:{lasso_score}')"
   ]
  },
  {
   "cell_type": "markdown",
   "metadata": {},
   "source": [
    "- GridSeachCV Hyperparameter Tuning\n",
    "    - `max_iter`:100,**300**,500,600,1000,2000\n",
    "    - `alpha`:**.01**,.05,.1,.5,1,2,5,10,50,100,500,1000"
   ]
  },
  {
   "cell_type": "code",
   "execution_count": 76,
   "metadata": {},
   "outputs": [
    {
     "name": "stdout",
     "output_type": "stream",
     "text": [
      "Best params of Ridge:  {'alpha': 0.01, 'max_iter': 3000}\n",
      "10-fold GridSearchCV RMSLE score:1.0200481779275337\n"
     ]
    }
   ],
   "source": [
    "### 모델 생성 - 그리드서치 ###\n",
    "lasso = Lasso()\n",
    "lasso_params = {'max_iter':[3000],'alpha':[.005,.01,.05,.1,.5,1,2,5,10,50,100]}\n",
    "grid_lasso = GridSearchCV(lasso,lasso_params,scoring = rmsle_scorer,cv=10)\n",
    "\n",
    "### 모델 학습 ###\n",
    "grid_lasso.fit(X=X_train,y=y_train)\n",
    "\n",
    "### 예측 및 성능 평가 ###\n",
    "pred_GLasso = grid_lasso.predict(X=X_train)\n",
    "GLasso_score = mean_squared_log_error(np.exp(y_train),np.exp(pred_GLasso))\n",
    "print('Best params of Ridge: ',grid_lasso.best_params_)\n",
    "print(f'10-fold GridSearchCV RMSLE score:{GLasso_score}')"
   ]
  },
  {
   "cell_type": "markdown",
   "metadata": {},
   "source": [
    "### Ensemble Random Forest\n",
    "- 기본 모델"
   ]
  },
  {
   "cell_type": "code",
   "execution_count": 64,
   "metadata": {},
   "outputs": [
    {
     "name": "stdout",
     "output_type": "stream",
     "text": [
      "10-fold RMSLE score:0.09011174579152982\n"
     ]
    }
   ],
   "source": [
    "### 모델 생성 ###\n",
    "rf = RandomForestRegressor()\n",
    "\n",
    "### 모델 학습 ###\n",
    "rf.fit(X=X_train,y=y_train)\n",
    "\n",
    "### 평가 ###\n",
    "k_fold = KFold(n_splits=10, shuffle=True, random_state=22)\n",
    "pred_rf = cross_val_predict(rf, X_train, y_train, cv=k_fold)\n",
    "rf_score = mean_squared_log_error(np.exp(y_train), np.exp(pred_rf))\n",
    "print(f'10-fold RMSLE score:{rf_score}')"
   ]
  },
  {
   "cell_type": "markdown",
   "metadata": {},
   "source": [
    "- GridSeachCV Hyperparameter Tuning\n",
    "    - `max_depth`: 10, 50, 100, **None**\n",
    "    - `n_estimators`: 50, 100, 200, 300, **500**, 1000"
   ]
  },
  {
   "cell_type": "code",
   "execution_count": 143,
   "metadata": {},
   "outputs": [
    {
     "name": "stdout",
     "output_type": "stream",
     "text": [
      "Best params of RandomForest:  {'max_depth': 100, 'n_estimators': 1000}\n",
      "10-fold GridSearchCV RMSLE score:0.011789943431748478\n"
     ]
    }
   ],
   "source": [
    "### 모델 생성 - 그리드서치 ###\n",
    "rf = RandomForestRegressor()\n",
    "rf_params2 = {'max_depth': [100],\n",
    "             'n_estimators': [100, 300, 500, 1000]}\n",
    "grid_rf2 = GridSearchCV(rf,rf_params2,scoring = rmsle_scorer,cv=10)\n",
    "\n",
    "### 모델 학습 ###\n",
    "grid_rf2.fit(X=X_train,y=y_train)\n",
    "\n",
    "### 예측 및 성능 평가 ###\n",
    "pred_GRF2 = grid_rf2.predict(X=X_train)\n",
    "GRF_score2 = mean_squared_log_error(np.exp(y_train),np.exp(pred_GRF2))\n",
    "print('Best params of RandomForest: ',grid_rf2.best_params_)\n",
    "print(f'10-fold GridSearchCV RMSLE score:{GRF_score2}')"
   ]
  },
  {
   "cell_type": "markdown",
   "metadata": {},
   "source": [
    "1. `max_depth`=None / `n_estimators`=500  <u>0.011912291790904564</u>\n",
    "2. `max_depth`=100 / `n_estimators`=1000  <u>0.011789943431748478</u>"
   ]
  },
  {
   "cell_type": "markdown",
   "metadata": {},
   "source": [
    "### Ensemble Gradient Boosting\n",
    "- 기본 모델"
   ]
  },
  {
   "cell_type": "code",
   "execution_count": 77,
   "metadata": {},
   "outputs": [
    {
     "name": "stdout",
     "output_type": "stream",
     "text": [
      "10-fold RMSLE score:0.15228860047945575\n"
     ]
    }
   ],
   "source": [
    "### 모델 생성 ###\n",
    "gbm = GradientBoostingRegressor()\n",
    "\n",
    "### 모델 학습 ###\n",
    "gbm.fit(X=X_train,y=y_train)\n",
    "\n",
    "### 평가 ###\n",
    "k_fold = KFold(n_splits=10, shuffle=True, random_state=22)\n",
    "pred_gbm = cross_val_predict(gbm, X_train, y_train, cv=k_fold)\n",
    "gbm_score = mean_squared_log_error(np.exp(y_train), np.exp(pred_gbm))\n",
    "print(f'10-fold RMSLE score:{gbm_score}')"
   ]
  },
  {
   "cell_type": "markdown",
   "metadata": {},
   "source": [
    "- GridSeachCV Hyperparameter Tuning\n",
    "    - `max_depth`: 3,4,**5**,6\n",
    "    - `learning_rate`: .001, .005, .01, .025, **.05**, .075, .1\n",
    "    - `n_estimators`: 50, 100, 250, **500**, 750, 1000, 1500"
   ]
  },
  {
   "cell_type": "code",
   "execution_count": 145,
   "metadata": {},
   "outputs": [
    {
     "name": "stdout",
     "output_type": "stream",
     "text": [
      "Best params of GradientBoost:  {'learning_rate': 0.075, 'max_depth': 5, 'n_estimators': 250}\n",
      "10-fold GridSearchCV RMSLE score:0.054443527910711935\n"
     ]
    }
   ],
   "source": [
    "### 모델 생성 - 그리드서치 ###\n",
    "gbm = GradientBoostingRegressor()\n",
    "gbm_params2 = {'max_depth':[4,5,6],'learning_rate':[0.025,.05,0.075], 'n_estimators':[250,500,750]}\n",
    "grid_gbm2 = GridSearchCV(gbm,gbm_params2,scoring = rmsle_scorer,cv=10)\n",
    "\n",
    "### 모델 학습 ###\n",
    "grid_gbm2.fit(X=X_train,y=y_train)\n",
    "\n",
    "### 예측 및 성능 평가 ###\n",
    "pred_GGbm2 = grid_gbm2.predict(X=X_train)\n",
    "GGbm_score2 = mean_squared_log_error(np.exp(y_train),np.exp(pred_GGbm2))\n",
    "print('Best params of GradientBoost: ',grid_gbm2.best_params_)\n",
    "print(f'10-fold GridSearchCV RMSLE score:{GGbm_score2}')"
   ]
  },
  {
   "cell_type": "markdown",
   "metadata": {},
   "source": [
    "1. `learning_rate`=0.05 / `max_depth`=5 / `n_estimators`=500   <u>0.04950393455023469</u>\n",
    "2. `learning_rate`=0.075 / `max_depth`=5 / `n_estimators`=250   <u>0.054443527910711935</u>"
   ]
  },
  {
   "cell_type": "markdown",
   "metadata": {},
   "source": [
    "### Ensemble AdaBoostRegressor [참고](https://scikit-learn.org/stable/modules/generated/sklearn.ensemble.AdaBoostRegressor.html)\n",
    "- 기본 모델: 0.453708645072753"
   ]
  },
  {
   "cell_type": "code",
   "execution_count": 126,
   "metadata": {},
   "outputs": [
    {
     "name": "stdout",
     "output_type": "stream",
     "text": [
      "10-fold RMSLE score:0.453708645072753\n"
     ]
    }
   ],
   "source": [
    "### 모델 생성 ###\n",
    "ada = AdaBoostRegressor()\n",
    "\n",
    "### 모델 학습 ###\n",
    "ada.fit(X=X_train,y=y_train)\n",
    "\n",
    "### 평가 ###\n",
    "k_fold = KFold(n_splits=10, shuffle=True, random_state=22)\n",
    "pred_ada = cross_val_predict(ada, X_train, y_train, cv=k_fold)\n",
    "ada_score = mean_squared_log_error(np.exp(y_train), np.exp(pred_ada))\n",
    "print(f'10-fold RMSLE score:{ada_score}')"
   ]
  },
  {
   "cell_type": "markdown",
   "metadata": {},
   "source": [
    "- GridSearchCV Hyperparameter Tuning"
   ]
  },
  {
   "cell_type": "code",
   "execution_count": 129,
   "metadata": {},
   "outputs": [
    {
     "name": "stdout",
     "output_type": "stream",
     "text": [
      "Best params of AdaBoostRegressor:  {'learning_rate': 0.05, 'loss': 'exponential', 'n_estimators': 500}\n",
      "10-fold GridSearchCV RMSLE score:0.40669772983181673\n"
     ]
    }
   ],
   "source": [
    "### 모델 생성 - 그리드서치 ###\n",
    "ada = AdaBoostRegressor()\n",
    "ada_params = {'loss':['linear','exponential'],'learning_rate':[.005,.01,.05,.1], 'n_estimators':[30,50,100,200,500,1000]}\n",
    "grid_ada = GridSearchCV(ada,ada_params,scoring = rmsle_scorer,cv=10)\n",
    "\n",
    "### 모델 학습 ###\n",
    "grid_ada.fit(X=X_train,y=y_train)\n",
    "\n",
    "### 예측 및 성능 평가 ###\n",
    "pred_GAda = grid_ada.predict(X=X_train)\n",
    "GAda_score = mean_squared_log_error(np.exp(y_train),np.exp(pred_GAda))\n",
    "print('Best params of AdaBoostRegressor: ',grid_ada.best_params_)\n",
    "print(f'10-fold GridSearchCV RMSLE score:{GAda_score}')"
   ]
  },
  {
   "cell_type": "markdown",
   "metadata": {},
   "source": [
    "### Ensemble BaggingRegressor [참고](https://scikit-learn.org/stable/modules/generated/sklearn.ensemble.BaggingRegressor.html?highlight=baggingregressor)\n",
    "- 기본 모델: 0.10087627581459563"
   ]
  },
  {
   "cell_type": "code",
   "execution_count": 127,
   "metadata": {},
   "outputs": [
    {
     "name": "stdout",
     "output_type": "stream",
     "text": [
      "10-fold RMSLE score:0.10087627581459563\n"
     ]
    }
   ],
   "source": [
    "### 모델 생성 ###\n",
    "bag = BaggingRegressor()\n",
    "\n",
    "### 모델 학습 ###\n",
    "bag.fit(X=X_train,y=y_train)\n",
    "\n",
    "### 평가 ###\n",
    "k_fold = KFold(n_splits=10, shuffle=True, random_state=22)\n",
    "pred_bag = cross_val_predict(bag, X_train, y_train, cv=k_fold)\n",
    "bag_score = mean_squared_log_error(np.exp(y_train), np.exp(pred_bag))\n",
    "print(f'10-fold RMSLE score:{bag_score}')"
   ]
  },
  {
   "cell_type": "markdown",
   "metadata": {},
   "source": [
    "- GridSearchCV Hyperparameter Tuning"
   ]
  },
  {
   "cell_type": "code",
   "execution_count": 133,
   "metadata": {},
   "outputs": [
    {
     "data": {
      "text/plain": [
       "{'base_estimator': None,\n",
       " 'bootstrap': True,\n",
       " 'bootstrap_features': False,\n",
       " 'max_features': 1.0,\n",
       " 'max_samples': 1.0,\n",
       " 'n_estimators': 10,\n",
       " 'n_jobs': None,\n",
       " 'oob_score': False,\n",
       " 'random_state': None,\n",
       " 'verbose': 0,\n",
       " 'warm_start': False}"
      ]
     },
     "execution_count": 133,
     "metadata": {},
     "output_type": "execute_result"
    }
   ],
   "source": [
    "bag.get_params()"
   ]
  },
  {
   "cell_type": "code",
   "execution_count": 134,
   "metadata": {},
   "outputs": [
    {
     "name": "stdout",
     "output_type": "stream",
     "text": [
      "Best params of BaggingRegressor:  {'n_estimators': 1000}\n",
      "10-fold GridSearchCV RMSLE score:0.01171767447097983\n"
     ]
    }
   ],
   "source": [
    "### 모델 생성 - 그리드서치 ###\n",
    "bag = BaggingRegressor()\n",
    "bag_params2 = {'n_estimators':[500,600,700,800,900,1000]}\n",
    "grid_bag2 = GridSearchCV(bag,bag_params2,scoring = rmsle_scorer,cv=10)\n",
    "\n",
    "### 모델 학습 ###\n",
    "grid_bag2.fit(X=X_train,y=y_train)\n",
    "\n",
    "### 예측 및 성능 평가 ###\n",
    "pred_GBag2 = grid_bag2.predict(X=X_train)\n",
    "GBag_score2 = mean_squared_log_error(np.exp(y_train),np.exp(pred_GBag2))\n",
    "print('Best params of BaggingRegressor: ',grid_bag2.best_params_)\n",
    "print(f'10-fold GridSearchCV RMSLE score:{GBag_score2}')"
   ]
  },
  {
   "cell_type": "markdown",
   "metadata": {},
   "source": [
    "1. `n_estimators`=1000   <u>0.01171767447097983</u>"
   ]
  },
  {
   "cell_type": "markdown",
   "metadata": {},
   "source": [
    "### LGBM lightgbm [참고](https://lightgbm.readthedocs.io/en/latest/pythonapi/lightgbm.LGBMRegressor.html)\n",
    "- 기본 모델"
   ]
  },
  {
   "cell_type": "code",
   "execution_count": 79,
   "metadata": {},
   "outputs": [
    {
     "name": "stdout",
     "output_type": "stream",
     "text": [
      "10-fold RMSLE score:0.08430989074757703\n"
     ]
    }
   ],
   "source": [
    "### 모델 생성 ###\n",
    "lgbm = LGBMRegressor()\n",
    "\n",
    "### 모델 학습 ###\n",
    "lgbm.fit(X=X_train,y=y_train)\n",
    "\n",
    "### 평가 ###\n",
    "k_fold = KFold(n_splits=10, shuffle=True, random_state=22)\n",
    "pred_lgbm = cross_val_predict(lgbm, X_train, y_train, cv=k_fold)\n",
    "lgbm_score = mean_squared_log_error(np.exp(y_train), np.exp(pred_lgbm))\n",
    "print(f'10-fold RMSLE score:{lgbm_score}')"
   ]
  },
  {
   "cell_type": "markdown",
   "metadata": {},
   "source": [
    "- GridSeachCV Hyperparameter Tuning\n",
    "    - [LGBM Parameters Tuning](https://lightgbm.readthedocs.io/en/latest/Parameters-Tuning.html)\n",
    "    \n",
    "#### LGBM parameter tuning 방법\n",
    "- 빠른 분석을 위한 parameter tuning\n",
    "    1. `bagging_fraction`과 `bagging_freq` 설정\n",
    "    2. `feature_fraction`으로 feature sub-sampling\n",
    "    3. `max_bin`를 더 **작게** 설정\n",
    "    4. `save_binary` 설정\n",
    "- 정확도를 높이기 위한 parameter tuning\n",
    "    1. `max_bin`을 더 **크게** 설정(단, 속도가 느려진다)\n",
    "    2. `learning_rate`를 **작게**, `num_iterations`를 **크게** 설정\n",
    "    3. `num_leaves`를 더 **크게** (단, overfitting 주의)\n",
    "    4. `dart` 사용\n",
    "- over-fitting에 대응하기 위한 parameter tuning\n",
    "    1. `max_bin`을 더 **작게**\n",
    "    2. `num_leaves`를 더 **작게**\n",
    "    3. `min_data_in_leaf`와 `min_sum_hessian_in_leaf` 설정\n",
    "    4. `bagging_fraction`과 `bagging_freq`을 설정\n",
    "    5. `feature_fraction`으로 feature을 sub-sampling\n",
    "    6. `lambda_l1`,`lambda_l2`,`min_gain_to_split`같은 규제 걸기\n",
    "    7. `max_depth`를 설정해서 과적합 방지\n",
    "    8. `extra_trees`를 설정하거나 `path_smooth` 높이기"
   ]
  },
  {
   "cell_type": "code",
   "execution_count": 148,
   "metadata": {},
   "outputs": [
    {
     "name": "stdout",
     "output_type": "stream",
     "text": [
      "Best params of GradientBoost:  {'boosting_type': 'gbdt', 'learning_rate': 0.1, 'max_depth': 8, 'num_leaves': 50}\n",
      "10-fold GridSearchCV RMSLE score:0.049860846702498296\n"
     ]
    }
   ],
   "source": [
    "### 모델 생성 - 그리드서치 ###\n",
    "lgbm = LGBMRegressor()\n",
    "lgbm_params2 = {'boosting_type':['gbdt','dart'],'max_depth':[8],'learning_rate':[.05,.1,.2], 'num_leaves':[10,20,50,75,100]}\n",
    "grid_lgbm2 = GridSearchCV(lgbm,lgbm_params2,scoring = rmsle_scorer,cv=10)\n",
    "\n",
    "### 모델 학습 ###\n",
    "grid_lgbm2.fit(X=X_train,y=y_train)\n",
    "\n",
    "### 예측 및 성능 평가 ###\n",
    "pred_GLgbm2 = grid_lgbm2.predict(X=X_train)\n",
    "GLgbm_score2 = mean_squared_log_error(np.exp(y_train),np.exp(pred_GLgbm2))\n",
    "print('Best params of GradientBoost: ',grid_lgbm2.best_params_)\n",
    "print(f'10-fold GridSearchCV RMSLE score:{GLgbm_score2}')"
   ]
  },
  {
   "cell_type": "markdown",
   "metadata": {},
   "source": [
    "1. `boosting_type`=gbdt / `learning_rate`=0.1 / `max_depth`=8 / `num_leaves`=50   <u>0.049860846702498296</u>"
   ]
  },
  {
   "cell_type": "code",
   "execution_count": 52,
   "metadata": {},
   "outputs": [
    {
     "name": "stderr",
     "output_type": "stream",
     "text": [
      "C:\\Users\\genie\\Anaconda3\\lib\\site-packages\\sklearn\\model_selection\\_validation.py:552: FitFailedWarning: Estimator fit failed. The score on this train-test partition for these parameters will be set to nan. Details: \n",
      "Traceback (most recent call last):\n",
      "  File \"C:\\Users\\genie\\Anaconda3\\lib\\site-packages\\sklearn\\model_selection\\_validation.py\", line 531, in _fit_and_score\n",
      "    estimator.fit(X_train, y_train, **fit_params)\n",
      "  File \"C:\\Users\\genie\\Anaconda3\\lib\\site-packages\\lightgbm\\sklearn.py\", line 743, in fit\n",
      "    callbacks=callbacks)\n",
      "  File \"C:\\Users\\genie\\Anaconda3\\lib\\site-packages\\lightgbm\\sklearn.py\", line 600, in fit\n",
      "    callbacks=callbacks)\n",
      "  File \"C:\\Users\\genie\\Anaconda3\\lib\\site-packages\\lightgbm\\engine.py\", line 228, in train\n",
      "    booster = Booster(params=params, train_set=train_set)\n",
      "  File \"C:\\Users\\genie\\Anaconda3\\lib\\site-packages\\lightgbm\\basic.py\", line 1716, in __init__\n",
      "    ctypes.byref(self.handle)))\n",
      "  File \"C:\\Users\\genie\\Anaconda3\\lib\\site-packages\\lightgbm\\basic.py\", line 45, in _safe_call\n",
      "    raise LightGBMError(decode_string(_LIB.LGBM_GetLastError()))\n",
      "lightgbm.basic.LightGBMError: Check failed: config->bagging_freq > 0 && config->bagging_fraction < 1.0f && config->bagging_fraction > 0.0f at d:\\a\\1\\s\\python-package\\compile\\src\\boosting\\rf.hpp, line 35 .\n",
      "\n",
      "\n",
      "  FitFailedWarning)\n",
      "C:\\Users\\genie\\Anaconda3\\lib\\site-packages\\ipykernel_launcher.py:5: RuntimeWarning: overflow encountered in exp\n",
      "  \"\"\"\n",
      "C:\\Users\\genie\\Anaconda3\\lib\\site-packages\\ipykernel_launcher.py:8: RuntimeWarning: overflow encountered in square\n",
      "  \n",
      "C:\\Users\\genie\\Anaconda3\\lib\\site-packages\\sklearn\\model_selection\\_search.py:814: RuntimeWarning: invalid value encountered in subtract\n",
      "  array_means[:, np.newaxis]) ** 2,\n"
     ]
    },
    {
     "name": "stdout",
     "output_type": "stream",
     "text": [
      "Best params of GradientBoost:  {'boosting_type': 'gbdt', 'learning_rate': 0.1, 'max_depth': 7, 'num_leaves': 75}\n",
      "10-fold GridSearchCV RMSLE score:0.045410898920859755\n"
     ]
    }
   ],
   "source": [
    "### 모델 생성 - 그리드서치 ###\n",
    "lgbm = LGBMRegressor()\n",
    "lgbm_params3 = {'boosting_type':['dart','gbdt','rf','goss'],'max_depth':[7],'learning_rate':[.1], 'num_leaves':[50,60,75,80,90]}\n",
    "grid_lgbm3 = GridSearchCV(lgbm,lgbm_params3,scoring = rmsle_scorer,cv=10)\n",
    "\n",
    "### 모델 학습 ###\n",
    "grid_lgbm3.fit(X=X_train,y=y_train)\n",
    "\n",
    "### 예측 및 성능 평가 ###\n",
    "pred_GLgbm3 = grid_lgbm3.predict(X=X_train)\n",
    "GLgbm_score3 = mean_squared_log_error(np.exp(y_train),np.exp(pred_GLgbm3))\n",
    "print('Best params of GradientBoost: ',grid_lgbm3.best_params_)\n",
    "print(f'10-fold GridSearchCV RMSLE score:{GLgbm_score3}')"
   ]
  },
  {
   "cell_type": "code",
   "execution_count": 54,
   "metadata": {},
   "outputs": [
    {
     "name": "stdout",
     "output_type": "stream",
     "text": [
      "Best params of GradientBoost:  {'boosting_type': 'gbdt', 'learning_rate': 0.1, 'max_depth': 8, 'num_leaves': 100}\n",
      "10-fold GridSearchCV RMSLE score:0.037684855853047976\n"
     ]
    }
   ],
   "source": [
    "### 모델 생성 - 그리드서치 ###\n",
    "lgbm = LGBMRegressor()\n",
    "lgbm_params4 = {'boosting_type':['dart','gbdt'],'max_depth':[8],'learning_rate':[.1], 'num_leaves':[90,100,120,130,150]}\n",
    "grid_lgbm4 = GridSearchCV(lgbm,lgbm_params4,scoring = rmsle_scorer,cv=10)\n",
    "\n",
    "### 모델 학습 ###\n",
    "grid_lgbm4.fit(X=X_train,y=y_train)\n",
    "\n",
    "### 예측 및 성능 평가 ###\n",
    "pred_GLgbm4 = grid_lgbm4.predict(X=X_train)\n",
    "GLgbm_score4 = mean_squared_log_error(np.exp(y_train),np.exp(pred_GLgbm4))\n",
    "print('Best params of GradientBoost: ',grid_lgbm4.best_params_)\n",
    "print(f'10-fold GridSearchCV RMSLE score:{GLgbm_score4}')"
   ]
  },
  {
   "cell_type": "markdown",
   "metadata": {},
   "source": [
    "### Ensemble Stacking\n",
    "- (`GBM1`+`RandomForest2`+`Bagging`+`LGBM`)->`LGBM`\n",
    "    - 0.05188634666056914"
   ]
  },
  {
   "cell_type": "code",
   "execution_count": 175,
   "metadata": {},
   "outputs": [
    {
     "name": "stdout",
     "output_type": "stream",
     "text": [
      "Stacking RMSLE score:0.05188634666056914\n"
     ]
    }
   ],
   "source": [
    "# 기본 모델\n",
    "estimators = [('rf',RandomForestRegressor(max_depth=100, n_estimators=1000)),\n",
    "             ('gbm',GradientBoostingRegressor(learning_rate=0.05, max_depth=5, n_estimators=500)),\n",
    "             ('bag',BaggingRegressor(n_estimators=1000)),\n",
    "             ('lgbm',LGBMRegressor(max_depth=8, num_leaves=50))]\n",
    "# 최종 모델\n",
    "stack_lgbm = StackingRegressor(estimators=estimators,final_estimator=lgbm)\n",
    "\n",
    "#학습\n",
    "stack_lgbm.fit(X=X_train,y=y_train)\n",
    "\n",
    "# 성능평가\n",
    "pred_stack1 = stack_lgbm.predict(X=X_train)\n",
    "stack_score1 = mean_squared_log_error(np.exp(y_train),np.exp(pred_stack1))\n",
    "print(f'Stacking RMSLE score:{stack_score1}')"
   ]
  },
  {
   "cell_type": "markdown",
   "metadata": {},
   "source": [
    "- (`GBM1`+`RandomForest2`+`Bagging`)->`LGBM`\n",
    "    - 0.04926024253144575"
   ]
  },
  {
   "cell_type": "code",
   "execution_count": 30,
   "metadata": {},
   "outputs": [
    {
     "name": "stdout",
     "output_type": "stream",
     "text": [
      "Stacking RMSLE score:0.04926024253144575\n"
     ]
    }
   ],
   "source": [
    "# 기본 모델\n",
    "estimators = [('rf',RandomForestRegressor(max_depth=100, n_estimators=1000)),\n",
    "             ('gbm',GradientBoostingRegressor(learning_rate=0.05, max_depth=5, n_estimators=500)),\n",
    "             ('bag',BaggingRegressor(n_estimators=1000))]\n",
    "# 최종 모델\n",
    "stack_lgbm2 = StackingRegressor(estimators=estimators,final_estimator=LGBMRegressor(max_depth=8, num_leaves=50))\n",
    "\n",
    "#학습\n",
    "stack_lgbm2.fit(X=X_train,y=y_train)\n",
    "\n",
    "# 성능평가\n",
    "pred_stack1_2 = stack_lgbm2.predict(X=X_train)\n",
    "stack_score1_2 = mean_squared_log_error(np.exp(y_train),np.exp(pred_stack1_2))\n",
    "print(f'Stacking RMSLE score:{stack_score1_2}')"
   ]
  },
  {
   "cell_type": "markdown",
   "metadata": {},
   "source": [
    "- (`GBM1`+`RandomForest2`+`Bagging`+`LGBM`)->`LGBM`\n",
    "    - 0.05000356808343325"
   ]
  },
  {
   "cell_type": "code",
   "execution_count": 32,
   "metadata": {},
   "outputs": [
    {
     "name": "stdout",
     "output_type": "stream",
     "text": [
      "Stacking RMSLE score:0.05000356808343325\n"
     ]
    }
   ],
   "source": [
    "# 기본 모델\n",
    "estimators = [('rf',RandomForestRegressor(max_depth=100, n_estimators=1000)),\n",
    "             ('gbm',GradientBoostingRegressor(learning_rate=0.05, max_depth=5, n_estimators=500)),\n",
    "             ('bag',BaggingRegressor(n_estimators=1000))]\n",
    "# 최종 모델\n",
    "stack_lgbm3 = StackingRegressor(estimators=estimators,final_estimator=LGBMRegressor(max_depth=8, num_leaves=50))\n",
    "\n",
    "#학습\n",
    "stack_lgbm3.fit(X=X_train,y=y_train)\n",
    "\n",
    "# 성능평가\n",
    "pred_stack1_3 = stack_lgbm3.predict(X=X_train)\n",
    "stack_score1_3 = mean_squared_log_error(np.exp(y_train),np.exp(pred_stack1_3))\n",
    "print(f'Stacking RMSLE score:{stack_score1_3}')"
   ]
  },
  {
   "cell_type": "markdown",
   "metadata": {},
   "source": [
    "- (`GBM1`+`RandomForest2`+`Bagging`+`LGBM`)->`RandomForest`\n",
    "    - 0.05868519594395292"
   ]
  },
  {
   "cell_type": "code",
   "execution_count": 180,
   "metadata": {},
   "outputs": [
    {
     "name": "stdout",
     "output_type": "stream",
     "text": [
      "Stacking RMSLE score:0.05868519594395292\n"
     ]
    }
   ],
   "source": [
    "# 기본 모델\n",
    "estimators = [('rf',RandomForestRegressor(max_depth=100, n_estimators=1000)),\n",
    "             ('gbm',GradientBoostingRegressor(learning_rate=0.05, max_depth=5, n_estimators=500)),\n",
    "             ('bag',BaggingRegressor(n_estimators=1000)),\n",
    "             ('lgbm',LGBMRegressor(max_depth=8, num_leaves=50))]\n",
    "# 최종 모델\n",
    "stack_rf = StackingRegressor(estimators=estimators,final_estimator=rf)\n",
    "\n",
    "#학습\n",
    "stack_rf.fit(X=X_train,y=y_train)\n",
    "\n",
    "# 성능평가\n",
    "pred_stack2 = stack_rf.predict(X=X_train)\n",
    "stack_score2 = mean_squared_log_error(np.exp(y_train),np.exp(pred_stack2))\n",
    "print(f'Stacking RMSLE score:{stack_score2}')"
   ]
  },
  {
   "cell_type": "markdown",
   "metadata": {},
   "source": [
    "- (`GBM1`+`RandomForest2`+`Bagging`+`LGBM`)->`Bagging`"
   ]
  },
  {
   "cell_type": "code",
   "execution_count": 182,
   "metadata": {},
   "outputs": [
    {
     "name": "stdout",
     "output_type": "stream",
     "text": [
      "Stacking RMSLE score:0.06730925587707606\n"
     ]
    }
   ],
   "source": [
    "# 기본 모델\n",
    "estimators = [('rf',RandomForestRegressor(max_depth=100, n_estimators=1000)),\n",
    "             ('gbm',GradientBoostingRegressor(learning_rate=0.05, max_depth=5, n_estimators=500)),\n",
    "             ('bag',BaggingRegressor(n_estimators=1000)),\n",
    "             ('lgbm',LGBMRegressor(max_depth=8, num_leaves=50))]\n",
    "# 최종 모델\n",
    "stack_bag = StackingRegressor(estimators=estimators,final_estimator=bag)\n",
    "\n",
    "#학습\n",
    "stack_bag.fit(X=X_train,y=y_train)\n",
    "\n",
    "# 성능평가\n",
    "pred_stack3 = stack_bag.predict(X=X_train)\n",
    "stack_score3 = mean_squared_log_error(np.exp(y_train),np.exp(pred_stack3))\n",
    "print(f'Stacking RMSLE score:{stack_score3}')"
   ]
  },
  {
   "cell_type": "markdown",
   "metadata": {},
   "source": [
    "- (`GBM1`+`RandomForest2`+`Bagging`+`LGBM`)->`GBM`"
   ]
  },
  {
   "cell_type": "code",
   "execution_count": 184,
   "metadata": {},
   "outputs": [
    {
     "name": "stdout",
     "output_type": "stream",
     "text": [
      "Stacking RMSLE score:0.04824021619497363\n"
     ]
    }
   ],
   "source": [
    "# 기본 모델\n",
    "estimators = [('rf',RandomForestRegressor(max_depth=100, n_estimators=1000)),\n",
    "             ('gbm',GradientBoostingRegressor(learning_rate=0.05, max_depth=5, n_estimators=500)),\n",
    "             ('bag',BaggingRegressor(n_estimators=1000)),\n",
    "             ('lgbm',LGBMRegressor(max_depth=8, num_leaves=50))]\n",
    "# 최종 모델\n",
    "stack_gbm = StackingRegressor(estimators=estimators,final_estimator=gbm)\n",
    "\n",
    "#학습\n",
    "stack_gbm.fit(X=X_train,y=y_train)\n",
    "\n",
    "# 성능평가\n",
    "pred_stack4 = stack_gbm.predict(X=X_train)\n",
    "stack_score4 = mean_squared_log_error(np.exp(y_train),np.exp(pred_stack4))\n",
    "print(f'Stacking RMSLE score:{stack_score4}')"
   ]
  },
  {
   "cell_type": "markdown",
   "metadata": {},
   "source": [
    "- (`RandomForest2`+`Bagging`+`LGBM`)->`GBM1`\n",
    "    - 0.04874068995736984"
   ]
  },
  {
   "cell_type": "code",
   "execution_count": 34,
   "metadata": {},
   "outputs": [
    {
     "name": "stdout",
     "output_type": "stream",
     "text": [
      "Stacking RMSLE score:0.04874068995736984\n"
     ]
    }
   ],
   "source": [
    "# 기본 모델\n",
    "estimators = [('rf',RandomForestRegressor(max_depth=100, n_estimators=1000)),\n",
    "              ('bag',BaggingRegressor(n_estimators=1000)),\n",
    "              ('lgbm',LGBMRegressor(max_depth=8, num_leaves=50))]\n",
    "# 최종 모델\n",
    "stack_gbm2 = StackingRegressor(estimators=estimators,final_estimator=GradientBoostingRegressor(learning_rate=0.05, max_depth=5, n_estimators=500))\n",
    "\n",
    "#학습\n",
    "stack_gbm2.fit(X=X_train,y=y_train)\n",
    "\n",
    "# 성능평가\n",
    "pred_stack4_2 = stack_gbm2.predict(X=X_train)\n",
    "stack_score4_2 = mean_squared_log_error(np.exp(y_train),np.exp(pred_stack4_2))\n",
    "print(f'Stacking RMSLE score:{stack_score4_2}')"
   ]
  },
  {
   "cell_type": "markdown",
   "metadata": {},
   "source": [
    "- (`GBM1`+`RandomForest2`+`Bagging`+`LGBM`)->`GBM1`\n",
    "    - 0.05339013878676392"
   ]
  },
  {
   "cell_type": "code",
   "execution_count": 36,
   "metadata": {},
   "outputs": [
    {
     "name": "stdout",
     "output_type": "stream",
     "text": [
      "Stacking RMSLE score:0.05339013878676392\n"
     ]
    }
   ],
   "source": [
    "# 기본 모델\n",
    "estimators = [('rf',RandomForestRegressor(max_depth=100, n_estimators=1000)),\n",
    "             ('gbm',GradientBoostingRegressor(learning_rate=0.05, max_depth=5, n_estimators=500)),\n",
    "             ('bag',BaggingRegressor(n_estimators=1000)),\n",
    "             ('lgbm',LGBMRegressor(max_depth=8, num_leaves=50))]\n",
    "# 최종 모델\n",
    "stack_gbm3 = StackingRegressor(estimators=estimators,final_estimator=GradientBoostingRegressor(learning_rate=0.05, max_depth=5, n_estimators=500))\n",
    "\n",
    "#학습\n",
    "stack_gbm3.fit(X=X_train,y=y_train)\n",
    "\n",
    "# 성능평가\n",
    "pred_stack4_3 = stack_gbm3.predict(X=X_train)\n",
    "stack_score4_3 = mean_squared_log_error(np.exp(y_train),np.exp(pred_stack4_3))\n",
    "print(f'Stacking RMSLE score:{stack_score4_3}')"
   ]
  },
  {
   "cell_type": "markdown",
   "metadata": {},
   "source": [
    "# Predict"
   ]
  },
  {
   "cell_type": "code",
   "execution_count": 171,
   "metadata": {},
   "outputs": [
    {
     "name": "stdout",
     "output_type": "stream",
     "text": [
      "scores:  [BaggingRegressor(n_estimators=1000), RandomForestRegressor(max_depth=100, n_estimators=1000), GradientBoostingRegressor(learning_rate=0.05, max_depth=5, n_estimators=500), LGBMRegressor(max_depth=8, num_leaves=50), LinearRegression(), AdaBoostRegressor(learning_rate=0.05, loss='exponential', n_estimators=500), Ridge(alpha=100, max_iter=3000), Lasso(alpha=0.01, max_iter=3000)]\n"
     ]
    }
   ],
   "source": [
    "scores = {grid_ridge.best_estimator_:GRidge_score,grid_lasso.best_estimator_:GLasso_score,\n",
    "          grid_rf2.best_estimator_:GRF_score2,grid_gbm.best_estimator_:GGbm_score,\n",
    "          grid_lgbm.best_estimator_:GLgbm_score,grid_ada.best_estimator_:GAda_score,\n",
    "          grid_bag.best_estimator_:GBag_score,reg:reg_score\n",
    "         }\n",
    "print('scores: ',sorted(scores, key=lambda x : scores[x], reverse=False))"
   ]
  },
  {
   "cell_type": "code",
   "execution_count": 56,
   "metadata": {},
   "outputs": [],
   "source": [
    "#best_model = sorted(scores, key=lambda x : scores[x], reverse=False)[5]\n",
    "#pred = best_model.predict(X_test)\n",
    "pred = grid_lgbm4.predict(X_test)\n",
    "sub = pd.DataFrame({'datetime':submission['datetime'],'count':[max(0,x) for x in np.exp(pred)]})\n",
    "sub.to_csv('bike_lgbm4.csv',index=False)"
   ]
  },
  {
   "cell_type": "markdown",
   "metadata": {},
   "source": [
    "# Conclusion"
   ]
  },
  {
   "cell_type": "markdown",
   "metadata": {},
   "source": [
    "### 단일모델 성능 비교(그리드서치 후)\n",
    "1. RMSLE 자체 성능 비교\n",
    "    1. **배깅**: **0.01171767447097983**\n",
    "    2. 랜덤포레스트: 0.011912291790904564\n",
    "    3. 그래디언트 부스트: 0.04950393455023469\n",
    "    4. LGBM: 0.049860846702498296\n",
    "        1. {'boosting_type': 'gbdt', 'learning_rate': 0.1, 'max_depth': 7, 'num_leaves': 75}: 0.045410898920859755\n",
    "        2. {'boosting_type': 'gbdt', 'learning_rate': 0.1, 'max_depth': 8, 'num_leaves': 100}: 0.037684855853047976\n",
    "    5. 선형회귀: 0.07462256861519097\n",
    "    6. 아다 부스트: 0.40669772983181673\n",
    "    7. Ridge: 1.0195900708376755\n",
    "    8. Lasso: 1.0200481779275337\n",
    "\n",
    "2. submission 제출 결과\n",
    "    1. **LGBM**: 0.40698\n",
    "        1. {'boosting_type': 'gbdt', 'learning_rate': 0.1, 'max_depth': 7, 'num_leaves': 75}: 0.40675\n",
    "        2. {'boosting_type': 'gbdt', 'learning_rate': 0.1, 'max_depth': 8, 'num_leaves': 100}: **0.40481**\n",
    "    2. 그래디언트 부스트: 0.42129(ver2. 0.42631)\n",
    "    3. 배깅: 0.43001\n",
    "    4. 랜덤포레스트: 0.42909(ver1. 0.43014)\n",
    "    5. 아다 부스트: 0.69576\n",
    "    6. Lasso: 1.04061\n",
    "    7. Ridge: 1.04955\n",
    "    8. 선형회귀: 1.05203\n",
    "    \n",
    "\n",
    "- 앙상블 모델의 성능이 전반적으로 더 우수하게 나타난다\n",
    "- RMSLE 자체 성능 비교와 submission결과의 차이가 있다. 즉, 과대추정으로 인한 오류가 발생했을 수도 있다\n",
    "    - 상위 4개 모델을 사용하여 3개 모델을 쌓고 가장 성능이 좋은 모델로 stacking해보자\n",
    "    \n",
    "### 다중모델 Stacking 성능 비교\n",
    "1. RMSLE 자체 성능 비교\n",
    "    1. (`GBM1`+`RandomForest2`+`Bagging`+`LGBM`)->`LGBM`: 0.05188634666056914\n",
    "        2. (`GBM1`+`RandomForest2`+`Bagging`)->`LGBM`: 0.04926024253144575\n",
    "        3. (`GBM1`+`RandomForest2`+`Bagging`+`LGBM`)->`LGBM`: 0.05000356808343325\n",
    "    2. (`GBM1`+`RandomForest2`+`Bagging`+`LGBM`)->`RF`: 0.05868519594395292\n",
    "    3. (`GBM1`+`RandomForest2`+`Bagging`+`LGBM`)->`Bagging`: 0.06730925587707606\n",
    "    4. (`GBM1`+`RandomForest2`+`Bagging`+`LGBM`)->`GBM`: 0.04824021619497363\n",
    "        2. (`RandomForest2`+`Bagging`+`LGBM`)->`GBM1`: 0.04874068995736984\n",
    "        3. (`GBM1`+`RandomForest2`+`Bagging`+`LGBM`)->`GBM1`: 0.05339013878676392\n",
    "\n",
    "2. submission 제출 결과\n",
    "    1. (`GBM1`+`RandomForest2`+`Bagging`+`LGBM`)->`LGBM`: 0.41933\n",
    "        2. (`GBM1`+`RandomForest2`+`Bagging`)->`LGBM`: 0.42888\n",
    "        3. (`GBM1`+`RandomForest2`+`Bagging`+`LGBM`)->`LGBM`: 0.42211\n",
    "    2. (`GBM1`+`RandomForest2`+`Bagging`+`LGBM`)->`RF`: 0.42357\n",
    "    3. (`GBM1`+`RandomForest2`+`Bagging`+`LGBM`)->`Bagging`:0.43150\n",
    "    4. (`GBM1`+`RandomForest2`+`Bagging`+`LGBM`)->`GBM`:0.41299\n",
    "        2. (`RandomForest2`+`Bagging`+`LGBM`)->`GBM1`: 0.41298\n",
    "        3. (`GBM1`+`RandomForest2`+`Bagging`+`LGBM`)->`GBM1`:0.41689"
   ]
  },
  {
   "cell_type": "code",
   "execution_count": 94,
   "metadata": {},
   "outputs": [
    {
     "data": {
      "text/html": [
       "<div>\n",
       "<style scoped>\n",
       "    .dataframe tbody tr th:only-of-type {\n",
       "        vertical-align: middle;\n",
       "    }\n",
       "\n",
       "    .dataframe tbody tr th {\n",
       "        vertical-align: top;\n",
       "    }\n",
       "\n",
       "    .dataframe thead th {\n",
       "        text-align: right;\n",
       "    }\n",
       "</style>\n",
       "<table border=\"1\" class=\"dataframe\">\n",
       "  <thead>\n",
       "    <tr style=\"text-align: right;\">\n",
       "      <th></th>\n",
       "      <th>model</th>\n",
       "      <th>params</th>\n",
       "      <th>RMSLE</th>\n",
       "      <th>submission</th>\n",
       "    </tr>\n",
       "  </thead>\n",
       "  <tbody>\n",
       "    <tr>\n",
       "      <th>19</th>\n",
       "      <td>LGBM4</td>\n",
       "      <td>LGBMRegressor(max_depth=8, num_leaves=100)</td>\n",
       "      <td>0.037685</td>\n",
       "      <td>0.40481</td>\n",
       "    </tr>\n",
       "    <tr>\n",
       "      <th>18</th>\n",
       "      <td>LGBM3</td>\n",
       "      <td>LGBMRegressor(max_depth=7, num_leaves=75)</td>\n",
       "      <td>0.045411</td>\n",
       "      <td>0.40675</td>\n",
       "    </tr>\n",
       "    <tr>\n",
       "      <th>7</th>\n",
       "      <td>LGBM2</td>\n",
       "      <td>LGBMRegressor(max_depth=8, num_leaves=50)</td>\n",
       "      <td>0.049861</td>\n",
       "      <td>0.40698</td>\n",
       "    </tr>\n",
       "    <tr>\n",
       "      <th>16</th>\n",
       "      <td>Stacking4_2</td>\n",
       "      <td>LGBM+RandomForest2+Bagging-&gt;GBM1</td>\n",
       "      <td>0.048741</td>\n",
       "      <td>0.41298</td>\n",
       "    </tr>\n",
       "    <tr>\n",
       "      <th>13</th>\n",
       "      <td>Stacking4</td>\n",
       "      <td>GBM1+RandomForest2+Bagging+LGBM)-&gt;GBM</td>\n",
       "      <td>0.048240</td>\n",
       "      <td>0.41299</td>\n",
       "    </tr>\n",
       "    <tr>\n",
       "      <th>17</th>\n",
       "      <td>Stacking4_3</td>\n",
       "      <td>GBM1+RandomForest2+Bagging+LGBM-&gt;GBM1</td>\n",
       "      <td>0.053390</td>\n",
       "      <td>0.41689</td>\n",
       "    </tr>\n",
       "    <tr>\n",
       "      <th>10</th>\n",
       "      <td>Stacking1</td>\n",
       "      <td>GBM1+RandomForest2+Bagging+LGBM)-&gt;LGBM</td>\n",
       "      <td>0.051886</td>\n",
       "      <td>0.41933</td>\n",
       "    </tr>\n",
       "    <tr>\n",
       "      <th>5</th>\n",
       "      <td>GradientBoost1</td>\n",
       "      <td>GradientBoostingRegressor(learning_rate=0.05,m...</td>\n",
       "      <td>0.049504</td>\n",
       "      <td>0.42129</td>\n",
       "    </tr>\n",
       "    <tr>\n",
       "      <th>15</th>\n",
       "      <td>Stacking1_3</td>\n",
       "      <td>GBM1+RandomForest2+Bagging+LGBM-&gt;LGBM</td>\n",
       "      <td>0.050004</td>\n",
       "      <td>0.42211</td>\n",
       "    </tr>\n",
       "    <tr>\n",
       "      <th>11</th>\n",
       "      <td>Stacking2</td>\n",
       "      <td>GBM1+RandomForest2+Bagging+LGBM)-&gt;RF</td>\n",
       "      <td>0.058685</td>\n",
       "      <td>0.42357</td>\n",
       "    </tr>\n",
       "    <tr>\n",
       "      <th>6</th>\n",
       "      <td>GradientBoost2</td>\n",
       "      <td>GradientBoostingRegressor(learning_rate=0.075,...</td>\n",
       "      <td>0.054444</td>\n",
       "      <td>0.42631</td>\n",
       "    </tr>\n",
       "    <tr>\n",
       "      <th>14</th>\n",
       "      <td>Stacking1_2</td>\n",
       "      <td>GBM1+RandomForest2+Bagging-&gt;LGBM</td>\n",
       "      <td>0.049260</td>\n",
       "      <td>0.42888</td>\n",
       "    </tr>\n",
       "    <tr>\n",
       "      <th>4</th>\n",
       "      <td>RandomForest2</td>\n",
       "      <td>RandomForestRegressor(max_depth=100, n_estimat...</td>\n",
       "      <td>0.011790</td>\n",
       "      <td>0.42909</td>\n",
       "    </tr>\n",
       "    <tr>\n",
       "      <th>9</th>\n",
       "      <td>Bagging</td>\n",
       "      <td>BaggingRegressor(n_estimators=1000)</td>\n",
       "      <td>0.011718</td>\n",
       "      <td>0.43001</td>\n",
       "    </tr>\n",
       "    <tr>\n",
       "      <th>3</th>\n",
       "      <td>RandomForest1</td>\n",
       "      <td>RandomForestRegressor(max_depth=None, n_estima...</td>\n",
       "      <td>0.011912</td>\n",
       "      <td>0.43014</td>\n",
       "    </tr>\n",
       "    <tr>\n",
       "      <th>12</th>\n",
       "      <td>Stacking3</td>\n",
       "      <td>GBM1+RandomForest2+Bagging+LGBM)-&gt;Bag</td>\n",
       "      <td>0.067309</td>\n",
       "      <td>0.43150</td>\n",
       "    </tr>\n",
       "    <tr>\n",
       "      <th>8</th>\n",
       "      <td>AdaBoost</td>\n",
       "      <td>AdaBoostRegressor(learning_rate=0.05, loss=\"ex...</td>\n",
       "      <td>0.406698</td>\n",
       "      <td>0.69576</td>\n",
       "    </tr>\n",
       "    <tr>\n",
       "      <th>2</th>\n",
       "      <td>Lasso</td>\n",
       "      <td>Lasso(alpha=0.01, max_iter=3000)\\t</td>\n",
       "      <td>1.020048</td>\n",
       "      <td>1.04061</td>\n",
       "    </tr>\n",
       "    <tr>\n",
       "      <th>1</th>\n",
       "      <td>Ridge</td>\n",
       "      <td>Ridge(alpha=100, max_iter=3000)</td>\n",
       "      <td>1.019590</td>\n",
       "      <td>1.04955</td>\n",
       "    </tr>\n",
       "    <tr>\n",
       "      <th>0</th>\n",
       "      <td>Regression</td>\n",
       "      <td>LinearRegression()</td>\n",
       "      <td>0.074623</td>\n",
       "      <td>1.05203</td>\n",
       "    </tr>\n",
       "  </tbody>\n",
       "</table>\n",
       "</div>"
      ],
      "text/plain": [
       "             model                                             params  \\\n",
       "19           LGBM4         LGBMRegressor(max_depth=8, num_leaves=100)   \n",
       "18           LGBM3          LGBMRegressor(max_depth=7, num_leaves=75)   \n",
       "7            LGBM2          LGBMRegressor(max_depth=8, num_leaves=50)   \n",
       "16     Stacking4_2                   LGBM+RandomForest2+Bagging->GBM1   \n",
       "13       Stacking4              GBM1+RandomForest2+Bagging+LGBM)->GBM   \n",
       "17     Stacking4_3              GBM1+RandomForest2+Bagging+LGBM->GBM1   \n",
       "10       Stacking1             GBM1+RandomForest2+Bagging+LGBM)->LGBM   \n",
       "5   GradientBoost1  GradientBoostingRegressor(learning_rate=0.05,m...   \n",
       "15     Stacking1_3              GBM1+RandomForest2+Bagging+LGBM->LGBM   \n",
       "11       Stacking2               GBM1+RandomForest2+Bagging+LGBM)->RF   \n",
       "6   GradientBoost2  GradientBoostingRegressor(learning_rate=0.075,...   \n",
       "14     Stacking1_2                   GBM1+RandomForest2+Bagging->LGBM   \n",
       "4    RandomForest2  RandomForestRegressor(max_depth=100, n_estimat...   \n",
       "9          Bagging                BaggingRegressor(n_estimators=1000)   \n",
       "3    RandomForest1  RandomForestRegressor(max_depth=None, n_estima...   \n",
       "12       Stacking3              GBM1+RandomForest2+Bagging+LGBM)->Bag   \n",
       "8         AdaBoost  AdaBoostRegressor(learning_rate=0.05, loss=\"ex...   \n",
       "2            Lasso                 Lasso(alpha=0.01, max_iter=3000)\\t   \n",
       "1            Ridge                    Ridge(alpha=100, max_iter=3000)   \n",
       "0       Regression                                 LinearRegression()   \n",
       "\n",
       "       RMSLE  submission  \n",
       "19  0.037685     0.40481  \n",
       "18  0.045411     0.40675  \n",
       "7   0.049861     0.40698  \n",
       "16  0.048741     0.41298  \n",
       "13  0.048240     0.41299  \n",
       "17  0.053390     0.41689  \n",
       "10  0.051886     0.41933  \n",
       "5   0.049504     0.42129  \n",
       "15  0.050004     0.42211  \n",
       "11  0.058685     0.42357  \n",
       "6   0.054444     0.42631  \n",
       "14  0.049260     0.42888  \n",
       "4   0.011790     0.42909  \n",
       "9   0.011718     0.43001  \n",
       "3   0.011912     0.43014  \n",
       "12  0.067309     0.43150  \n",
       "8   0.406698     0.69576  \n",
       "2   1.020048     1.04061  \n",
       "1   1.019590     1.04955  \n",
       "0   0.074623     1.05203  "
      ]
     },
     "execution_count": 94,
     "metadata": {},
     "output_type": "execute_result"
    }
   ],
   "source": [
    "### 모델별 파라미터와 RMSLE, submission 스코어 ###\n",
    "\n",
    "result = pd.DataFrame({'model':[],'params':[],'RMSLE':[],'submission':[]})\n",
    "\n",
    "result.loc[0] = ['Regression','',reg_score,1.05203]\n",
    "result.loc[1] = ['Ridge',grid_ridge.best_estimator_,GRidge_score,1.04955]\n",
    "result.loc[2] = ['Lasso',grid_lasso.best_estimator_,GLasso_score,1.04061]\n",
    "result.loc[3] = ['RandomForest1',grid_rf.best_estimator_,GRF_score,0.43014]\n",
    "result.loc[4] = ['RandomForest2',grid_rf2.best_estimator_,GRF_score2,0.42909]\n",
    "result.loc[5] = ['GradientBoost1',grid_gbm.best_estimator_,GGbm_score,0.42129]\n",
    "result.loc[6] = ['GradientBoost2',grid_gbm2.best_estimator_,GGbm_score2,0.42631]\n",
    "result.loc[7] = ['LGBM2',grid_lgbm2.best_estimator_,GLgbm_score2,0.40698]\n",
    "result.loc[8] = ['AdaBoost',grid_ada.best_estimator_,GAda_score,0.69576]\n",
    "result.loc[9] = ['Bagging',grid_bag.best_estimator_,GBag_score,0.43001]\n",
    "result.loc[10] = ['Stacking1','GBM1+RandomForest2+Bagging+LGBM)->LGBM',stack_score1,0.41933]\n",
    "result.loc[11] = ['Stacking2','GBM1+RandomForest2+Bagging+LGBM)->RF',stack_score2,0.42357]\n",
    "result.loc[12] = ['Stacking3','GBM1+RandomForest2+Bagging+LGBM)->Bag',stack_score3,0.43150]\n",
    "result.loc[13] = ['Stacking4','GBM1+RandomForest2+Bagging+LGBM)->GBM',stack_score4,0.41299]\n",
    "result.loc[14] = ['Stacking1_2','GBM1+RandomForest2+Bagging->LGBM',stack_score1_2,0.42888]\n",
    "result.loc[15] = ['Stacking1_3','GBM1+RandomForest2+Bagging+LGBM->LGBM',stack_score1_3,0.42211]\n",
    "result.loc[16] = ['Stacking4_2','LGBM+RandomForest2+Bagging->GBM1',stack_score4_2,0.41298]\n",
    "result.loc[17] = ['Stacking4_3','GBM1+RandomForest2+Bagging+LGBM->GBM1',stack_score4_3,0.41689]\n",
    "result.loc[18] = ['LGBM3',grid_lgbm3.best_estimator_,GLgbm_score3,0.40675]\n",
    "result.loc[19] = ['LGBM4',grid_lgbm4.best_estimator_,GLgbm_score4,0.40481]\n",
    "\n",
    "result.sort_values(by=['submission'])"
   ]
  },
  {
   "cell_type": "code",
   "execution_count": 58,
   "metadata": {},
   "outputs": [
    {
     "data": {
      "text/plain": [
       "<matplotlib.axes._subplots.AxesSubplot at 0x1abfb416eb8>"
      ]
     },
     "execution_count": 58,
     "metadata": {},
     "output_type": "execute_result"
    },
    {
     "data": {
      "image/png": "[encoded data removed]",
      "text/plain": [
       "<Figure size 1080x360 with 1 Axes>"
      ]
     },
     "metadata": {},
     "output_type": "display_data"
    }
   ],
   "source": [
    "### RMSLE 스코어 순위 시각화 ###\n",
    "fig,ax = plt.subplots()\n",
    "fig.set_size_inches(15,5)\n",
    "\n",
    "plt.xticks(rotation=45)\n",
    "sns.barplot(data=result.sort_values(['RMSLE']),x='model',y='RMSLE',ax=ax)"
   ]
  },
  {
   "cell_type": "code",
   "execution_count": 59,
   "metadata": {},
   "outputs": [
    {
     "data": {
      "text/plain": [
       "<matplotlib.axes._subplots.AxesSubplot at 0x1adfe36abe0>"
      ]
     },
     "execution_count": 59,
     "metadata": {},
     "output_type": "execute_result"
    },
    {
     "data": {
      "image/png": "[encoded data removed]",
      "text/plain": [
       "<Figure size 1080x360 with 1 Axes>"
      ]
     },
     "metadata": {},
     "output_type": "display_data"
    }
   ],
   "source": [
    "### submission 스코어 순위 시각화 ###\n",
    "fig,ax = plt.subplots()\n",
    "fig.set_size_inches(15,5)\n",
    "\n",
    "plt.xticks(rotation=45)\n",
    "sns.barplot(data=result.sort_values(['submission']),x='model',y='submission',ax=ax)"
   ]
  },
  {
   "cell_type": "markdown",
   "metadata": {},
   "source": [
    "### 결론\n",
    "- RMSLE 함수로 자체 스코어를 계산한 결과와 실제 submission 제출 결과에 차이가 있다. RMSLE 스코어는 낮지만 submission 스코어가 큰 모델은 over-fitting을 의심할 수 있다.\n",
    "    - over-fitting 의심: bagging, regression, randomforest1, randomforest2\n",
    "\n",
    "- 반면 RMSLE 스코어로 순위를 매겼을 때 상위 모델은 아니지만, 실제 submission 제출 결과 순위가 상승한 모델이 여러개 있다.\n",
    "    - LGBM, stacking1, stacking4 등\n",
    "    - 전반적으로 LGBM,GBM이 over-fitting 위험이 낮으며 실제 submission 제출 결과, 스코어가 향상되는 경향이 보인다\n",
    "    \n",
    "- 가장 성능이 좋은 모델은 **LGBM 단일 모델**이다.(submission 스코어 0.40481(상위 약 8%))\n",
    "> 3242팀 중 262위인데, 종료된 대회이므로 순위는 정확한 수치가 아니다\n",
    "    \n",
    "    - 전반적으로 LGBM의 submission 스코어가 높은 편이며, LGBM 단일모델 간의 비교를 해보면 RMSLE 자체 평가와 submission 스코어 순위 차이가 없는 것을 알 수 있다.\n",
    "\n",
    "### 알 수 있는 점\n",
    "- RMSLE 같은 평가지표로 자체 순위를 매긴 것과 실제 submission 제출 결과는 다를 수 있다. 제작한 모델 모두 submission 파일을 제작해서 직접 스코어를 평가할 필요가 있다. 앞으로 대회 출전 시, 1일 제출량에 따라 최대한 빨리 모델을 구축해서 여러번 검증해보는 것이 좋다.\n",
    "- 오버피팅의 문제는 상당히 성능에 많은 영향을 미친다. 오버피팅을 줄이기 위한 모델 구축이 가장 중요하다.\n",
    "- Stacking 모델이 꼭 가장 좋은 성능을 보이는 것은 아니다."
   ]
  },
  {
   "cell_type": "markdown",
   "metadata": {},
   "source": [
    "## windspeed을 LGBM 모델로 보간 한다면?"
   ]
  },
  {
   "cell_type": "code",
   "execution_count": 61,
   "metadata": {},
   "outputs": [
    {
     "name": "stdout",
     "output_type": "stream",
     "text": [
      "<class 'pandas.core.frame.DataFrame'>\n",
      "RangeIndex: 10586 entries, 0 to 10585\n",
      "Data columns (total 19 columns):\n",
      " #   Column      Non-Null Count  Dtype         \n",
      "---  ------      --------------  -----         \n",
      " 0   datetime    10586 non-null  datetime64[ns]\n",
      " 1   season      10586 non-null  int64         \n",
      " 2   holiday     10586 non-null  int64         \n",
      " 3   workingday  10586 non-null  int64         \n",
      " 4   weather     10586 non-null  int64         \n",
      " 5   temp        10586 non-null  float64       \n",
      " 6   atemp       10586 non-null  float64       \n",
      " 7   humidity    10586 non-null  int64         \n",
      " 8   windspeed   10586 non-null  float64       \n",
      " 9   casual      10586 non-null  int64         \n",
      " 10  registered  10586 non-null  int64         \n",
      " 11  count       10586 non-null  int64         \n",
      " 12  year        10586 non-null  int64         \n",
      " 13  month       10586 non-null  int64         \n",
      " 14  day         10586 non-null  int64         \n",
      " 15  hour        10586 non-null  int64         \n",
      " 16  minute      10586 non-null  int64         \n",
      " 17  second      10586 non-null  int64         \n",
      " 18  dayofweek   10586 non-null  int64         \n",
      "dtypes: datetime64[ns](1), float64(3), int64(15)\n",
      "memory usage: 1.5 MB\n"
     ]
    },
    {
     "name": "stderr",
     "output_type": "stream",
     "text": [
      "C:\\Users\\genie\\Anaconda3\\lib\\site-packages\\ipykernel_launcher.py:15: SettingWithCopyWarning: \n",
      "A value is trying to be set on a copy of a slice from a DataFrame.\n",
      "Try using .loc[row_indexer,col_indexer] = value instead\n",
      "\n",
      "See the caveats in the documentation: https://pandas.pydata.org/pandas-docs/stable/user_guide/indexing.html#returning-a-view-versus-a-copy\n",
      "  from ipykernel import kernelapp as app\n"
     ]
    }
   ],
   "source": [
    "# windspeed =0인 데이터와 !=0인 데이터로 나누기\n",
    "trainWind02 = train_Outliers[train_Outliers['windspeed']==0]\n",
    "trainWindNot02 = train_Outliers[train_Outliers['windspeed']!=0]\n",
    "\n",
    "#windspeed 예측 모델\n",
    "lgbm_wind = LGBMRegressor()\n",
    "\n",
    "#모델 피처\n",
    "#windCols = ['season','weather','temp','atemp','humidity','year','month','day','hour']\n",
    "\n",
    "#학습\n",
    "lgbm_wind.fit(trainWindNot02[windCols],trainWindNot02['windspeed'])\n",
    "\n",
    "#예측\n",
    "trainWind02['windspeed'] = lgbm_wind.predict(trainWind02[windCols])\n",
    "\n",
    "## 다시 학습데이터로 합치기\n",
    "train_wind2 = trainWindNot02.append(trainWind02)\n",
    "train_wind2.reset_index(inplace = True)\n",
    "train_wind2.drop('index',inplace=True,axis=1)\n",
    "train_wind2.info()"
   ]
  },
  {
   "cell_type": "markdown",
   "metadata": {},
   "source": [
    "#### 데이터셋 준비\n",
    "- LGBM으로 *windspeed*을 보간한 train 데이터 `X_train2` 준비"
   ]
  },
  {
   "cell_type": "code",
   "execution_count": 70,
   "metadata": {},
   "outputs": [],
   "source": [
    "# 피처 분류하기\n",
    "categoricalFeatureNames = ['season','holiday','workingday','weather','month','year','hour','dayofweek']\n",
    "numericFeatureNames = ['temp','humidity','windspeed','atemp']\n",
    "dropFeatureNames = ['casual','registered','minute','second','count']\n",
    "\n",
    "# Categorical 피처 타입 변환 - 라벨인코딩은 할 필요 없다\n",
    "for var in categoricalFeatureNames:\n",
    "    train_wind2[var] = train_wind2[var].astype('category')\n",
    "    #test[var] = test[var].astype('category')"
   ]
  },
  {
   "cell_type": "code",
   "execution_count": 71,
   "metadata": {},
   "outputs": [],
   "source": [
    "### Train / Test Split ###\n",
    "X_train2 = train_wind2[categoricalFeatureNames+numericFeatureNames]\n",
    "X_test = test[categoricalFeatureNames+numericFeatureNames]\n",
    "\n",
    "y_train2 = np.log(train_wind2['count'])"
   ]
  },
  {
   "cell_type": "markdown",
   "metadata": {},
   "source": [
    "#### 모델\n",
    "1. `grid_lgbm2`를 `X_train2`로 학습\n",
    "    - 0.049861->0.048835"
   ]
  },
  {
   "cell_type": "code",
   "execution_count": 72,
   "metadata": {},
   "outputs": [
    {
     "name": "stdout",
     "output_type": "stream",
     "text": [
      "Best params of GradientBoost:  {'boosting_type': 'gbdt', 'learning_rate': 0.1, 'max_depth': 8, 'num_leaves': 50}\n",
      "10-fold GridSearchCV RMSLE score:0.04883535868662822\n"
     ]
    }
   ],
   "source": [
    "### 모델 생성 - 그리드서치 ###\n",
    "lgbm = LGBMRegressor()\n",
    "lgbm_params2 = {'boosting_type':['gbdt','dart'],'max_depth':[8],'learning_rate':[.05,.1,.2], 'num_leaves':[10,20,50,75,100]}\n",
    "grid_lgbm2n = GridSearchCV(lgbm,lgbm_params2,scoring = rmsle_scorer,cv=10)\n",
    "\n",
    "### 모델 학습 ###\n",
    "grid_lgbm2n.fit(X=X_train2,y=y_train2)\n",
    "\n",
    "### 예측 및 성능 평가 ###\n",
    "pred_GLgbm2n = grid_lgbm2n.predict(X=X_train2)\n",
    "GLgbm_score2n = mean_squared_log_error(np.exp(y_train2),np.exp(pred_GLgbm2n))\n",
    "print('Best params of GradientBoost: ',grid_lgbm2n.best_params_)\n",
    "print(f'10-fold GridSearchCV RMSLE score:{GLgbm_score2n}')"
   ]
  },
  {
   "cell_type": "markdown",
   "metadata": {},
   "source": [
    "2. `grid_lgbm3`를 `X_train2`로 학습\n",
    "    - 0.045411->0.037336"
   ]
  },
  {
   "cell_type": "code",
   "execution_count": 87,
   "metadata": {},
   "outputs": [
    {
     "name": "stderr",
     "output_type": "stream",
     "text": [
      "C:\\Users\\genie\\Anaconda3\\lib\\site-packages\\sklearn\\model_selection\\_validation.py:552: FitFailedWarning: Estimator fit failed. The score on this train-test partition for these parameters will be set to nan. Details: \n",
      "Traceback (most recent call last):\n",
      "  File \"C:\\Users\\genie\\Anaconda3\\lib\\site-packages\\sklearn\\model_selection\\_validation.py\", line 531, in _fit_and_score\n",
      "    estimator.fit(X_train, y_train, **fit_params)\n",
      "  File \"C:\\Users\\genie\\Anaconda3\\lib\\site-packages\\lightgbm\\sklearn.py\", line 743, in fit\n",
      "    callbacks=callbacks)\n",
      "  File \"C:\\Users\\genie\\Anaconda3\\lib\\site-packages\\lightgbm\\sklearn.py\", line 600, in fit\n",
      "    callbacks=callbacks)\n",
      "  File \"C:\\Users\\genie\\Anaconda3\\lib\\site-packages\\lightgbm\\engine.py\", line 228, in train\n",
      "    booster = Booster(params=params, train_set=train_set)\n",
      "  File \"C:\\Users\\genie\\Anaconda3\\lib\\site-packages\\lightgbm\\basic.py\", line 1716, in __init__\n",
      "    ctypes.byref(self.handle)))\n",
      "  File \"C:\\Users\\genie\\Anaconda3\\lib\\site-packages\\lightgbm\\basic.py\", line 45, in _safe_call\n",
      "    raise LightGBMError(decode_string(_LIB.LGBM_GetLastError()))\n",
      "lightgbm.basic.LightGBMError: Check failed: config->bagging_freq > 0 && config->bagging_fraction < 1.0f && config->bagging_fraction > 0.0f at d:\\a\\1\\s\\python-package\\compile\\src\\boosting\\rf.hpp, line 35 .\n",
      "\n",
      "\n",
      "  FitFailedWarning)\n",
      "C:\\Users\\genie\\Anaconda3\\lib\\site-packages\\ipykernel_launcher.py:5: RuntimeWarning: overflow encountered in exp\n",
      "  \"\"\"\n",
      "C:\\Users\\genie\\Anaconda3\\lib\\site-packages\\ipykernel_launcher.py:8: RuntimeWarning: overflow encountered in square\n",
      "  \n",
      "C:\\Users\\genie\\Anaconda3\\lib\\site-packages\\sklearn\\model_selection\\_search.py:814: RuntimeWarning: invalid value encountered in subtract\n",
      "  array_means[:, np.newaxis]) ** 2,\n"
     ]
    },
    {
     "name": "stdout",
     "output_type": "stream",
     "text": [
      "Best params of GradientBoost:  {'boosting_type': 'gbdt', 'learning_rate': 0.1, 'max_depth': 7, 'num_leaves': 75}\n",
      "10-fold GridSearchCV RMSLE score:0.04587965531276805\n"
     ]
    }
   ],
   "source": [
    "### 모델 생성 - 그리드서치 ###\n",
    "lgbm = LGBMRegressor()\n",
    "lgbm_params3 = {'boosting_type':['dart','gbdt','rf','goss'],'max_depth':[7],'learning_rate':[.1], 'num_leaves':[50,60,75,80,90]}\n",
    "grid_lgbm3n = GridSearchCV(lgbm,lgbm_params3,scoring = rmsle_scorer,cv=10)\n",
    "\n",
    "### 모델 학습 ###\n",
    "grid_lgbm3n.fit(X=X_train2,y=y_train2)\n",
    "\n",
    "### 예측 및 성능 평가 ###\n",
    "pred_GLgbm3n = grid_lgbm3n.predict(X=X_train2)\n",
    "GLgbm_score3n = mean_squared_log_error(np.exp(y_train2),np.exp(pred_GLgbm3n))\n",
    "print('Best params of GradientBoost: ',grid_lgbm3n.best_params_)\n",
    "print(f'10-fold GridSearchCV RMSLE score:{GLgbm_score3n}')"
   ]
  },
  {
   "cell_type": "markdown",
   "metadata": {},
   "source": [
    "3. `grid_lgbm4`를 `X_train2`로 학습\n",
    "    - 0.037685->0.045880"
   ]
  },
  {
   "cell_type": "code",
   "execution_count": 74,
   "metadata": {},
   "outputs": [
    {
     "name": "stdout",
     "output_type": "stream",
     "text": [
      "Best params of GradientBoost:  {'boosting_type': 'gbdt', 'learning_rate': 0.1, 'max_depth': 8, 'num_leaves': 100}\n",
      "10-fold GridSearchCV RMSLE score:0.03733573397883179\n"
     ]
    }
   ],
   "source": [
    "### 모델 생성 - 그리드서치 ###\n",
    "lgbm = LGBMRegressor()\n",
    "lgbm_params4 = {'boosting_type':['dart','gbdt'],'max_depth':[8],'learning_rate':[.1], 'num_leaves':[90,100,120,130,150]}\n",
    "grid_lgbm4n = GridSearchCV(lgbm,lgbm_params4,scoring = rmsle_scorer,cv=10)\n",
    "\n",
    "### 모델 학습 ###\n",
    "grid_lgbm4n.fit(X=X_train2,y=y_train2)\n",
    "\n",
    "### 예측 및 성능 평가 ###\n",
    "pred_GLgbm4n = grid_lgbm4n.predict(X=X_train2)\n",
    "GLgbm_score4n = mean_squared_log_error(np.exp(y_train2),np.exp(pred_GLgbm4n))\n",
    "print('Best params of GradientBoost: ',grid_lgbm4n.best_params_)\n",
    "print(f'10-fold GridSearchCV RMSLE score:{GLgbm_score4n}')"
   ]
  },
  {
   "cell_type": "markdown",
   "metadata": {},
   "source": [
    "4. `stack_gbm3`을 `X_train2`로 학습\n",
    "    - 0.053390->0.054371"
   ]
  },
  {
   "cell_type": "code",
   "execution_count": 76,
   "metadata": {},
   "outputs": [
    {
     "name": "stdout",
     "output_type": "stream",
     "text": [
      "Stacking RMSLE score:0.05437108191943431\n"
     ]
    }
   ],
   "source": [
    "# 기본 모델\n",
    "estimators = [('rf',RandomForestRegressor(max_depth=100, n_estimators=1000)),\n",
    "             ('gbm',GradientBoostingRegressor(learning_rate=0.05, max_depth=5, n_estimators=500)),\n",
    "             ('bag',BaggingRegressor(n_estimators=1000)),\n",
    "             ('lgbm',LGBMRegressor(max_depth=8, num_leaves=50))]\n",
    "# 최종 모델\n",
    "stack_gbm3n = StackingRegressor(estimators=estimators,final_estimator=GradientBoostingRegressor(learning_rate=0.05, max_depth=5, n_estimators=500))\n",
    "\n",
    "#학습\n",
    "stack_gbm3n.fit(X=X_train2,y=y_train2)\n",
    "\n",
    "# 성능평가\n",
    "pred_stack4_3n = stack_gbm3n.predict(X=X_train2)\n",
    "stack_score4_3n = mean_squared_log_error(np.exp(y_train2),np.exp(pred_stack4_3n))\n",
    "print(f'Stacking RMSLE score:{stack_score4_3n}')"
   ]
  },
  {
   "cell_type": "markdown",
   "metadata": {},
   "source": [
    "#### submission 파일 만들기"
   ]
  },
  {
   "cell_type": "code",
   "execution_count": 88,
   "metadata": {},
   "outputs": [],
   "source": [
    "#best_model = sorted(scores, key=lambda x : scores[x], reverse=False)[5]\n",
    "#pred = best_model.predict(X_test)\n",
    "pred = grid_lgbm3n.predict(X_test)\n",
    "sub = pd.DataFrame({'datetime':submission['datetime'],'count':[max(0,x) for x in np.exp(pred)]})\n",
    "sub.to_csv('bike_lgbm3_new.csv',index=False)"
   ]
  },
  {
   "cell_type": "markdown",
   "metadata": {},
   "source": [
    "#### 성능 평가"
   ]
  },
  {
   "cell_type": "code",
   "execution_count": 95,
   "metadata": {},
   "outputs": [
    {
     "data": {
      "text/html": [
       "<div>\n",
       "<style scoped>\n",
       "    .dataframe tbody tr th:only-of-type {\n",
       "        vertical-align: middle;\n",
       "    }\n",
       "\n",
       "    .dataframe tbody tr th {\n",
       "        vertical-align: top;\n",
       "    }\n",
       "\n",
       "    .dataframe thead th {\n",
       "        text-align: right;\n",
       "    }\n",
       "</style>\n",
       "<table border=\"1\" class=\"dataframe\">\n",
       "  <thead>\n",
       "    <tr style=\"text-align: right;\">\n",
       "      <th></th>\n",
       "      <th>model</th>\n",
       "      <th>params</th>\n",
       "      <th>RMSLE</th>\n",
       "      <th>submission</th>\n",
       "    </tr>\n",
       "  </thead>\n",
       "  <tbody>\n",
       "    <tr>\n",
       "      <th>21</th>\n",
       "      <td>LGBM3_new</td>\n",
       "      <td>LGBMRegressor(max_depth=8, num_leaves=100)</td>\n",
       "      <td>0.037336</td>\n",
       "      <td>0.40464</td>\n",
       "    </tr>\n",
       "    <tr>\n",
       "      <th>19</th>\n",
       "      <td>LGBM4</td>\n",
       "      <td>LGBMRegressor(max_depth=8, num_leaves=100)</td>\n",
       "      <td>0.037685</td>\n",
       "      <td>0.40481</td>\n",
       "    </tr>\n",
       "    <tr>\n",
       "      <th>20</th>\n",
       "      <td>LGBM2_new</td>\n",
       "      <td>LGBMRegressor(max_depth=8, num_leaves=50)</td>\n",
       "      <td>0.048835</td>\n",
       "      <td>0.40502</td>\n",
       "    </tr>\n",
       "    <tr>\n",
       "      <th>18</th>\n",
       "      <td>LGBM3</td>\n",
       "      <td>LGBMRegressor(max_depth=7, num_leaves=75)</td>\n",
       "      <td>0.045411</td>\n",
       "      <td>0.40675</td>\n",
       "    </tr>\n",
       "    <tr>\n",
       "      <th>7</th>\n",
       "      <td>LGBM2</td>\n",
       "      <td>LGBMRegressor(max_depth=8, num_leaves=50)</td>\n",
       "      <td>0.049861</td>\n",
       "      <td>0.40698</td>\n",
       "    </tr>\n",
       "    <tr>\n",
       "      <th>22</th>\n",
       "      <td>LGBM4_new</td>\n",
       "      <td>LGBMRegressor(max_depth=7, num_leaves=75)</td>\n",
       "      <td>0.045880</td>\n",
       "      <td>0.40947</td>\n",
       "    </tr>\n",
       "    <tr>\n",
       "      <th>16</th>\n",
       "      <td>Stacking4_2</td>\n",
       "      <td>LGBM+RandomForest2+Bagging-&gt;GBM1</td>\n",
       "      <td>0.048741</td>\n",
       "      <td>0.41298</td>\n",
       "    </tr>\n",
       "    <tr>\n",
       "      <th>13</th>\n",
       "      <td>Stacking4</td>\n",
       "      <td>GBM1+RandomForest2+Bagging+LGBM)-&gt;GBM</td>\n",
       "      <td>0.048240</td>\n",
       "      <td>0.41299</td>\n",
       "    </tr>\n",
       "    <tr>\n",
       "      <th>17</th>\n",
       "      <td>Stacking4_3</td>\n",
       "      <td>GBM1+RandomForest2+Bagging+LGBM-&gt;GBM1</td>\n",
       "      <td>0.053390</td>\n",
       "      <td>0.41689</td>\n",
       "    </tr>\n",
       "    <tr>\n",
       "      <th>10</th>\n",
       "      <td>Stacking1</td>\n",
       "      <td>GBM1+RandomForest2+Bagging+LGBM)-&gt;LGBM</td>\n",
       "      <td>0.051886</td>\n",
       "      <td>0.41933</td>\n",
       "    </tr>\n",
       "    <tr>\n",
       "      <th>5</th>\n",
       "      <td>GradientBoost1</td>\n",
       "      <td>GradientBoostingRegressor(learning_rate=0.05,m...</td>\n",
       "      <td>0.049504</td>\n",
       "      <td>0.42129</td>\n",
       "    </tr>\n",
       "    <tr>\n",
       "      <th>15</th>\n",
       "      <td>Stacking1_3</td>\n",
       "      <td>GBM1+RandomForest2+Bagging+LGBM-&gt;LGBM</td>\n",
       "      <td>0.050004</td>\n",
       "      <td>0.42211</td>\n",
       "    </tr>\n",
       "    <tr>\n",
       "      <th>11</th>\n",
       "      <td>Stacking2</td>\n",
       "      <td>GBM1+RandomForest2+Bagging+LGBM)-&gt;RF</td>\n",
       "      <td>0.058685</td>\n",
       "      <td>0.42357</td>\n",
       "    </tr>\n",
       "    <tr>\n",
       "      <th>23</th>\n",
       "      <td>Stack4_3_new</td>\n",
       "      <td>GBM1+RandomForest2+Bagging+LGBM-&gt;GBM1</td>\n",
       "      <td>0.054371</td>\n",
       "      <td>0.42573</td>\n",
       "    </tr>\n",
       "    <tr>\n",
       "      <th>6</th>\n",
       "      <td>GradientBoost2</td>\n",
       "      <td>GradientBoostingRegressor(learning_rate=0.075,...</td>\n",
       "      <td>0.054444</td>\n",
       "      <td>0.42631</td>\n",
       "    </tr>\n",
       "    <tr>\n",
       "      <th>14</th>\n",
       "      <td>Stacking1_2</td>\n",
       "      <td>GBM1+RandomForest2+Bagging-&gt;LGBM</td>\n",
       "      <td>0.049260</td>\n",
       "      <td>0.42888</td>\n",
       "    </tr>\n",
       "    <tr>\n",
       "      <th>4</th>\n",
       "      <td>RandomForest2</td>\n",
       "      <td>RandomForestRegressor(max_depth=100, n_estimat...</td>\n",
       "      <td>0.011790</td>\n",
       "      <td>0.42909</td>\n",
       "    </tr>\n",
       "    <tr>\n",
       "      <th>9</th>\n",
       "      <td>Bagging</td>\n",
       "      <td>BaggingRegressor(n_estimators=1000)</td>\n",
       "      <td>0.011718</td>\n",
       "      <td>0.43001</td>\n",
       "    </tr>\n",
       "    <tr>\n",
       "      <th>3</th>\n",
       "      <td>RandomForest1</td>\n",
       "      <td>RandomForestRegressor(max_depth=None, n_estima...</td>\n",
       "      <td>0.011912</td>\n",
       "      <td>0.43014</td>\n",
       "    </tr>\n",
       "    <tr>\n",
       "      <th>12</th>\n",
       "      <td>Stacking3</td>\n",
       "      <td>GBM1+RandomForest2+Bagging+LGBM)-&gt;Bag</td>\n",
       "      <td>0.067309</td>\n",
       "      <td>0.43150</td>\n",
       "    </tr>\n",
       "    <tr>\n",
       "      <th>8</th>\n",
       "      <td>AdaBoost</td>\n",
       "      <td>AdaBoostRegressor(learning_rate=0.05, loss=\"ex...</td>\n",
       "      <td>0.406698</td>\n",
       "      <td>0.69576</td>\n",
       "    </tr>\n",
       "    <tr>\n",
       "      <th>2</th>\n",
       "      <td>Lasso</td>\n",
       "      <td>Lasso(alpha=0.01, max_iter=3000)\\t</td>\n",
       "      <td>1.020048</td>\n",
       "      <td>1.04061</td>\n",
       "    </tr>\n",
       "    <tr>\n",
       "      <th>1</th>\n",
       "      <td>Ridge</td>\n",
       "      <td>Ridge(alpha=100, max_iter=3000)</td>\n",
       "      <td>1.019590</td>\n",
       "      <td>1.04955</td>\n",
       "    </tr>\n",
       "    <tr>\n",
       "      <th>0</th>\n",
       "      <td>Regression</td>\n",
       "      <td>LinearRegression()</td>\n",
       "      <td>0.074623</td>\n",
       "      <td>1.05203</td>\n",
       "    </tr>\n",
       "  </tbody>\n",
       "</table>\n",
       "</div>"
      ],
      "text/plain": [
       "             model                                             params  \\\n",
       "21       LGBM3_new         LGBMRegressor(max_depth=8, num_leaves=100)   \n",
       "19           LGBM4         LGBMRegressor(max_depth=8, num_leaves=100)   \n",
       "20       LGBM2_new          LGBMRegressor(max_depth=8, num_leaves=50)   \n",
       "18           LGBM3          LGBMRegressor(max_depth=7, num_leaves=75)   \n",
       "7            LGBM2          LGBMRegressor(max_depth=8, num_leaves=50)   \n",
       "22       LGBM4_new          LGBMRegressor(max_depth=7, num_leaves=75)   \n",
       "16     Stacking4_2                   LGBM+RandomForest2+Bagging->GBM1   \n",
       "13       Stacking4              GBM1+RandomForest2+Bagging+LGBM)->GBM   \n",
       "17     Stacking4_3              GBM1+RandomForest2+Bagging+LGBM->GBM1   \n",
       "10       Stacking1             GBM1+RandomForest2+Bagging+LGBM)->LGBM   \n",
       "5   GradientBoost1  GradientBoostingRegressor(learning_rate=0.05,m...   \n",
       "15     Stacking1_3              GBM1+RandomForest2+Bagging+LGBM->LGBM   \n",
       "11       Stacking2               GBM1+RandomForest2+Bagging+LGBM)->RF   \n",
       "23    Stack4_3_new              GBM1+RandomForest2+Bagging+LGBM->GBM1   \n",
       "6   GradientBoost2  GradientBoostingRegressor(learning_rate=0.075,...   \n",
       "14     Stacking1_2                   GBM1+RandomForest2+Bagging->LGBM   \n",
       "4    RandomForest2  RandomForestRegressor(max_depth=100, n_estimat...   \n",
       "9          Bagging                BaggingRegressor(n_estimators=1000)   \n",
       "3    RandomForest1  RandomForestRegressor(max_depth=None, n_estima...   \n",
       "12       Stacking3              GBM1+RandomForest2+Bagging+LGBM)->Bag   \n",
       "8         AdaBoost  AdaBoostRegressor(learning_rate=0.05, loss=\"ex...   \n",
       "2            Lasso                 Lasso(alpha=0.01, max_iter=3000)\\t   \n",
       "1            Ridge                    Ridge(alpha=100, max_iter=3000)   \n",
       "0       Regression                                 LinearRegression()   \n",
       "\n",
       "       RMSLE  submission  \n",
       "21  0.037336     0.40464  \n",
       "19  0.037685     0.40481  \n",
       "20  0.048835     0.40502  \n",
       "18  0.045411     0.40675  \n",
       "7   0.049861     0.40698  \n",
       "22  0.045880     0.40947  \n",
       "16  0.048741     0.41298  \n",
       "13  0.048240     0.41299  \n",
       "17  0.053390     0.41689  \n",
       "10  0.051886     0.41933  \n",
       "5   0.049504     0.42129  \n",
       "15  0.050004     0.42211  \n",
       "11  0.058685     0.42357  \n",
       "23  0.054371     0.42573  \n",
       "6   0.054444     0.42631  \n",
       "14  0.049260     0.42888  \n",
       "4   0.011790     0.42909  \n",
       "9   0.011718     0.43001  \n",
       "3   0.011912     0.43014  \n",
       "12  0.067309     0.43150  \n",
       "8   0.406698     0.69576  \n",
       "2   1.020048     1.04061  \n",
       "1   1.019590     1.04955  \n",
       "0   0.074623     1.05203  "
      ]
     },
     "execution_count": 95,
     "metadata": {},
     "output_type": "execute_result"
    }
   ],
   "source": [
    "### 성능 평가 ###\n",
    "result.loc[20] = ['LGBM2_new',grid_lgbm2n.best_estimator_,GLgbm_score2n,0.40502]\n",
    "result.loc[21] = ['LGBM3_new',grid_lgbm4n.best_estimator_,GLgbm_score4n,0.40464]\n",
    "result.loc[22] = ['LGBM4_new',grid_lgbm3n.best_estimator_,GLgbm_score3n,0.40947]\n",
    "result.loc[23] = ['Stack4_3_new','GBM1+RandomForest2+Bagging+LGBM->GBM1',stack_score4_3n,0.42573]\n",
    "\n",
    "result = result.sort_values(by=['submission'])\n",
    "result"
   ]
  },
  {
   "cell_type": "code",
   "execution_count": 103,
   "metadata": {},
   "outputs": [
    {
     "data": {
      "text/plain": [
       "<matplotlib.axes._subplots.AxesSubplot at 0x1ae0001bd68>"
      ]
     },
     "execution_count": 103,
     "metadata": {},
     "output_type": "execute_result"
    },
    {
     "data": {
      "image/png": "[encoded data removed]",
      "text/plain": [
       "<Figure size 1080x360 with 1 Axes>"
      ]
     },
     "metadata": {},
     "output_type": "display_data"
    }
   ],
   "source": [
    "### submission 스코어 0.5 이하 순위 시각화 ###\n",
    "fig,ax = plt.subplots()\n",
    "fig.set_size_inches(15,5)\n",
    "\n",
    "plt.xticks(rotation=45)\n",
    "plt.ylim(.3, .5)\n",
    "sns.barplot(data=result[result['submission']<0.5].head(10),x='model',y='submission',ax=ax)"
   ]
  },
  {
   "cell_type": "markdown",
   "metadata": {},
   "source": [
    "- *windspeed*의 보간법을 `RandomForestRegressor`에서 `LGBMRegressor`으로 변경한 데이터셋으로 동일 모델을 돌렸을 때, 성능이 더 향상되는 것을 확인할 수 있다. 보간법도 다양한 모델로 수행하여 데이터를 정확하게 정리해야함을 알 수 있다.\n",
    "- stacking 모델의 경우, LGBM 보간 데이터보다 RandomForestRegressor 보간 데이터로 학습했을 때의 성능이 더 좋다.\n",
    "    - 여전히 LGBM 단일 모델의 성능이 가장 좋으며 submission 스코어 0.40464로 상위 8%에 해당한다.\n",
    "        > 3242팀 중 262위인데, 종료된 대회이므로 순위는 정확한 수치가 아니다\n",
    "\n",
    "- **오늘코드**의 코드와 같은 방법으로 보간(랜덤 포레스트)하고 같은 방법으로 모델링 했음에도 불구하고 결과에 차이가 있었다. 같은 설정에도 불구하고 다른 결과를 보인 것은 <u>Computing Power</u>의 차이가 아닐까 싶다. ~~(결론은 컴퓨터를 바꾸자)~~"
   ]
  }
 ],
 "metadata": {
  "kernelspec": {
   "display_name": "Python 3",
   "language": "python",
   "name": "python3"
  },
  "language_info": {
   "codemirror_mode": {
    "name": "ipython",
    "version": 3
   },
   "file_extension": ".py",
   "mimetype": "text/x-python",
   "name": "python",
   "nbconvert_exporter": "python",
   "pygments_lexer": "ipython3",
   "version": "3.7.3"
  }
 },
 "nbformat": 4,
 "nbformat_minor": 4
}
