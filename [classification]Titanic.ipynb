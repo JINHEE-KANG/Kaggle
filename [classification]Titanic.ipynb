{
  "nbformat": 4,
  "nbformat_minor": 0,
  "metadata": {
    "colab": {
      "name": "[classification]Titanic",
      "provenance": [],
      "collapsed_sections": [],
      "mount_file_id": "1O9HDfolHoK84CPj4c_8omMojKJJF2sVV",
      "authorship_tag": "ABX9TyMqagOMJXgQJR9RGcKUmJyG",
      "include_colab_link": true
    },
    "kernelspec": {
      "name": "python3",
      "display_name": "Python 3"
    }
  },
  "cells": [
    {
      "cell_type": "markdown",
      "metadata": {
        "id": "view-in-github",
        "colab_type": "text"
      },
      "source": [
        "<a href=\"https://colab.research.google.com/github/JINHEE-KANG/Kaggle/blob/master/%5Bclassification%5DTitanic.ipynb\" target=\"_parent\"><img src=\"https://colab.research.google.com/assets/colab-badge.svg\" alt=\"Open In Colab\"/></a>"
      ]
    },
    {
      "cell_type": "markdown",
      "metadata": {
        "id": "qBc985v0s8Hd"
      },
      "source": [
        "# Binary classification\r\n",
        "## Tabular data\r\n",
        "\r\n",
        "- competition: **Titanic**:Machine Learning from Disaster\r\n",
        "- Kernel: [Titanic Top 4% with ensemble modeling](https://www.kaggle.com/yassineghouzam/titanic-top-4-with-ensemble-modeling)(Yassine Ghouzam, PhD)\r\n",
        "\r\n",
        "- **colab ver.**"
      ]
    },
    {
      "cell_type": "markdown",
      "metadata": {
        "id": "Q24-n78Qtc7Y"
      },
      "source": [
        "# 1. Introduction\r\n",
        "- import packages\r\n",
        "- setting"
      ]
    },
    {
      "cell_type": "code",
      "metadata": {
        "id": "TIe9OFzVtaEE"
      },
      "source": [
        "# Data handling\r\n",
        "import pandas as pd #data handling\r\n",
        "import numpy as np  #mathematics\r\n",
        "import matplotlib.pyplot as plt #visualizing\r\n",
        "import seaborn as sns #visualizing\r\n",
        "%matplotlib inline\r\n",
        "\r\n",
        "from collections import Counter #?\r\n",
        "\r\n",
        "# Modeling\r\n",
        "from sklearn.ensemble import RandomForestClassifier, AdaBoostClassifier, GradientBoostingClassifier, ExtraTreesClassifier, VotingClassifier\r\n",
        "from sklearn.discriminant_analysis import LinearDiscriminantAnalysis\r\n",
        "from sklearn.linear_model import LogisticRegression\r\n",
        "from sklearn.neighbors import KNeighborsClassifier\r\n",
        "from sklearn.tree import DecisionTreeClassifier\r\n",
        "from sklearn.neural_network import MLPClassifier\r\n",
        "from sklearn.svm import SVC\r\n",
        "\r\n",
        "# Model selection\r\n",
        "from sklearn.model_selection import GridSearchCV, cross_val_score, StratifiedKFold, learning_curve\r\n",
        "\r\n",
        "sns.set(style='white', context='notebook', palette='deep') #???"
      ],
      "execution_count": 2,
      "outputs": []
    },
    {
      "cell_type": "markdown",
      "metadata": {
        "id": "NpqDKOgotk86"
      },
      "source": [
        "# 2. Load and check data"
      ]
    },
    {
      "cell_type": "code",
      "metadata": {
        "id": "XDyX4uMOqH-O"
      },
      "source": [
        ""
      ],
      "execution_count": null,
      "outputs": []
    },
    {
      "cell_type": "markdown",
      "metadata": {
        "id": "w8a-k_LOt_jv"
      },
      "source": [
        "## 2-1. load data"
      ]
    },
    {
      "cell_type": "code",
      "metadata": {
        "id": "yPvhpjSguBX0"
      },
      "source": [
        ""
      ],
      "execution_count": null,
      "outputs": []
    },
    {
      "cell_type": "markdown",
      "metadata": {
        "id": "sPV7KXxLuBmu"
      },
      "source": [
        "## 2-2. Outlier detection"
      ]
    },
    {
      "cell_type": "code",
      "metadata": {
        "id": "AsJNT7eFuEjJ"
      },
      "source": [
        ""
      ],
      "execution_count": null,
      "outputs": []
    },
    {
      "cell_type": "markdown",
      "metadata": {
        "id": "DwiswY70uEzM"
      },
      "source": [
        "## 2-3. Joining train and test set"
      ]
    },
    {
      "cell_type": "code",
      "metadata": {
        "id": "S8t3Dz7PuIVy"
      },
      "source": [
        ""
      ],
      "execution_count": null,
      "outputs": []
    },
    {
      "cell_type": "markdown",
      "metadata": {
        "id": "CqCEdqHruIka"
      },
      "source": [
        "## 2-4. Check for null & missing values"
      ]
    },
    {
      "cell_type": "code",
      "metadata": {
        "id": "niEM4fRbuNif"
      },
      "source": [
        ""
      ],
      "execution_count": null,
      "outputs": []
    },
    {
      "cell_type": "markdown",
      "metadata": {
        "id": "JEooj_QEtoaT"
      },
      "source": [
        "# 3. Feature analysis"
      ]
    },
    {
      "cell_type": "code",
      "metadata": {
        "id": "XENm2YQotr_b"
      },
      "source": [
        ""
      ],
      "execution_count": null,
      "outputs": []
    },
    {
      "cell_type": "markdown",
      "metadata": {
        "id": "Lh9_exzbuP6L"
      },
      "source": [
        "## 3-1. Numerical values"
      ]
    },
    {
      "cell_type": "code",
      "metadata": {
        "id": "RT12-Ny8uSlW"
      },
      "source": [
        ""
      ],
      "execution_count": null,
      "outputs": []
    },
    {
      "cell_type": "markdown",
      "metadata": {
        "id": "8weFWHYHuSzt"
      },
      "source": [
        "## 3-2. Categorical values"
      ]
    },
    {
      "cell_type": "code",
      "metadata": {
        "id": "llubksFzuU3Q"
      },
      "source": [
        ""
      ],
      "execution_count": null,
      "outputs": []
    },
    {
      "cell_type": "markdown",
      "metadata": {
        "id": "D3KNN6cQtsQh"
      },
      "source": [
        "# 4. Filling missing values\r\n",
        "## 4-1. Age"
      ]
    },
    {
      "cell_type": "code",
      "metadata": {
        "id": "0iIFxCbotzMz"
      },
      "source": [
        ""
      ],
      "execution_count": null,
      "outputs": []
    },
    {
      "cell_type": "markdown",
      "metadata": {
        "id": "rC1HMmbstzdI"
      },
      "source": [
        "# 5. Feature engineering\r\n",
        "## 5-1. Name/Title"
      ]
    },
    {
      "cell_type": "code",
      "metadata": {
        "id": "sdO59yYFt3L-"
      },
      "source": [
        ""
      ],
      "execution_count": null,
      "outputs": []
    },
    {
      "cell_type": "markdown",
      "metadata": {
        "id": "fR0xXuzqugaQ"
      },
      "source": [
        "## 5-2. Family size"
      ]
    },
    {
      "cell_type": "code",
      "metadata": {
        "id": "ht33eq8cuik5"
      },
      "source": [
        ""
      ],
      "execution_count": null,
      "outputs": []
    },
    {
      "cell_type": "markdown",
      "metadata": {
        "id": "ToT8kDitujK3"
      },
      "source": [
        "## 5-3. Cabin"
      ]
    },
    {
      "cell_type": "code",
      "metadata": {
        "id": "TLJCzxPculTw"
      },
      "source": [
        ""
      ],
      "execution_count": null,
      "outputs": []
    },
    {
      "cell_type": "markdown",
      "metadata": {
        "id": "6sjyIh-Oulk6"
      },
      "source": [
        "## 5-4. Ticket"
      ]
    },
    {
      "cell_type": "code",
      "metadata": {
        "id": "Vz7tXkvEun-6"
      },
      "source": [
        ""
      ],
      "execution_count": null,
      "outputs": []
    },
    {
      "cell_type": "markdown",
      "metadata": {
        "id": "X2JNa-xzt3nj"
      },
      "source": [
        "# 6. Modeling"
      ]
    },
    {
      "cell_type": "markdown",
      "metadata": {
        "id": "Gucdkec9uwQN"
      },
      "source": [
        "## 6-1. Simple modeling"
      ]
    },
    {
      "cell_type": "code",
      "metadata": {
        "id": "UsGwIhaKt72_"
      },
      "source": [
        ""
      ],
      "execution_count": null,
      "outputs": []
    },
    {
      "cell_type": "markdown",
      "metadata": {
        "id": "ZMplE7sBuysJ"
      },
      "source": [
        "### 6-1-1. Cross validate models"
      ]
    },
    {
      "cell_type": "code",
      "metadata": {
        "id": "bbkLCN2Du3SY"
      },
      "source": [
        ""
      ],
      "execution_count": null,
      "outputs": []
    },
    {
      "cell_type": "markdown",
      "metadata": {
        "id": "G0NaZQ7iu3l6"
      },
      "source": [
        "### 6-1-2. Hyperparamater tuning for best models"
      ]
    },
    {
      "cell_type": "code",
      "metadata": {
        "id": "f3tcxYfIu88a"
      },
      "source": [
        ""
      ],
      "execution_count": null,
      "outputs": []
    },
    {
      "cell_type": "markdown",
      "metadata": {
        "id": "1TKk5-n2u9Mf"
      },
      "source": [
        "### 6-1-3. Plot learning curves"
      ]
    },
    {
      "cell_type": "code",
      "metadata": {
        "id": "0-z1xqRsvAtS"
      },
      "source": [
        ""
      ],
      "execution_count": null,
      "outputs": []
    },
    {
      "cell_type": "markdown",
      "metadata": {
        "id": "7gKCFaPCvBFd"
      },
      "source": [
        "### 6-1-4. Feature importance for the tree based classifiers"
      ]
    },
    {
      "cell_type": "code",
      "metadata": {
        "id": "_iGwPUbJvGMJ"
      },
      "source": [
        ""
      ],
      "execution_count": null,
      "outputs": []
    },
    {
      "cell_type": "markdown",
      "metadata": {
        "id": "KyH5qmpdvGg7"
      },
      "source": [
        "## 6-2. Ensemble modeling\r\n",
        "### 6-2-1. Combining models"
      ]
    },
    {
      "cell_type": "code",
      "metadata": {
        "id": "02EkA0MDvVg_"
      },
      "source": [
        ""
      ],
      "execution_count": null,
      "outputs": []
    },
    {
      "cell_type": "markdown",
      "metadata": {
        "id": "97ouAv2EvWGX"
      },
      "source": [
        "# 7. Prediction\r\n",
        "## 7-1. Predict"
      ]
    },
    {
      "cell_type": "code",
      "metadata": {
        "id": "KWecN6NAvcuP"
      },
      "source": [
        ""
      ],
      "execution_count": null,
      "outputs": []
    },
    {
      "cell_type": "markdown",
      "metadata": {
        "id": "fK6ukHj0vdDp"
      },
      "source": [
        "## 7-2. Submit results"
      ]
    },
    {
      "cell_type": "code",
      "metadata": {
        "id": "nl4n1y47vfh6"
      },
      "source": [
        ""
      ],
      "execution_count": null,
      "outputs": []
    }
  ]
}